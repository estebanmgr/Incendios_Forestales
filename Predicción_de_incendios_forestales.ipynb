{
  "nbformat": 4,
  "nbformat_minor": 0,
  "metadata": {
    "colab": {
      "name": "Predicción de incendios forestales.ipynb",
      "provenance": [],
      "collapsed_sections": [],
      "toc_visible": true,
      "authorship_tag": "ABX9TyO6bt79brNy7bTSPY5uHrab",
      "include_colab_link": true
    },
    "kernelspec": {
      "name": "python3",
      "display_name": "Python 3"
    },
    "language_info": {
      "name": "python"
    }
  },
  "cells": [
    {
      "cell_type": "markdown",
      "metadata": {
        "id": "view-in-github",
        "colab_type": "text"
      },
      "source": [
        "<a href=\"https://colab.research.google.com/github/estebanmgr/Incendios_Forestales/blob/main/Predicci%C3%B3n_de_incendios_forestales.ipynb\" target=\"_parent\"><img src=\"https://colab.research.google.com/assets/colab-badge.svg\" alt=\"Open In Colab\"/></a>"
      ]
    },
    {
      "cell_type": "markdown",
      "metadata": {
        "id": "n8IGHsGoo1YP"
      },
      "source": [
        "# Incendios en algeria"
      ]
    },
    {
      "cell_type": "markdown",
      "metadata": {
        "id": "SaWsop08otOY"
      },
      "source": [
        "La finalidad de este proyecto es predecir la ocurrencia de incendios forestales basandose en datasets historicos de incendios ocurridos en Algeria."
      ]
    },
    {
      "cell_type": "markdown",
      "metadata": {
        "id": "w3UO7lDWpV94"
      },
      "source": [
        "# Análisis exploratorio\n"
      ]
    },
    {
      "cell_type": "markdown",
      "metadata": {
        "id": "OQdvxBvNp3GZ"
      },
      "source": [
        "## Importando las librerías"
      ]
    },
    {
      "cell_type": "code",
      "metadata": {
        "id": "nGW6FYDxoynq"
      },
      "source": [
        "import pandas as pd\n",
        "import numpy as np\n",
        "import seaborn as sns; sns.set()\n",
        "import matplotlib.pyplot as plt\n",
        "import os\n",
        "from warnings import simplefilter\n",
        "simplefilter(action=\"ignore\", category=FutureWarning)"
      ],
      "execution_count": null,
      "outputs": []
    },
    {
      "cell_type": "markdown",
      "metadata": {
        "id": "vvdzLXfjp6-7"
      },
      "source": [
        "## Importando los dataset"
      ]
    },
    {
      "cell_type": "markdown",
      "metadata": {
        "id": "J2C70Z8iqBA5"
      },
      "source": [
        "Una vez importado el dataset, se puede observar que tiene adjunto dos sets de datos (Algeria y Abbes), con lo cual se procede a dividirlo en dos."
      ]
    },
    {
      "cell_type": "code",
      "metadata": {
        "colab": {
          "base_uri": "https://localhost:8080/",
          "height": 206
        },
        "id": "_cPNVdfepBWh",
        "outputId": "5597ffd5-aa96-4004-a8a1-287eda418d70"
      },
      "source": [
        "df_algeria = pd.read_csv(\"https://archive.ics.uci.edu/ml/machine-learning-databases/00547/Algerian_forest_fires_dataset_UPDATE.csv\", nrows=122, header=1)\n",
        "df_algeria.head()"
      ],
      "execution_count": null,
      "outputs": [
        {
          "output_type": "execute_result",
          "data": {
            "text/html": [
              "<div>\n",
              "<style scoped>\n",
              "    .dataframe tbody tr th:only-of-type {\n",
              "        vertical-align: middle;\n",
              "    }\n",
              "\n",
              "    .dataframe tbody tr th {\n",
              "        vertical-align: top;\n",
              "    }\n",
              "\n",
              "    .dataframe thead th {\n",
              "        text-align: right;\n",
              "    }\n",
              "</style>\n",
              "<table border=\"1\" class=\"dataframe\">\n",
              "  <thead>\n",
              "    <tr style=\"text-align: right;\">\n",
              "      <th></th>\n",
              "      <th>day</th>\n",
              "      <th>month</th>\n",
              "      <th>year</th>\n",
              "      <th>Temperature</th>\n",
              "      <th>RH</th>\n",
              "      <th>Ws</th>\n",
              "      <th>Rain</th>\n",
              "      <th>FFMC</th>\n",
              "      <th>DMC</th>\n",
              "      <th>DC</th>\n",
              "      <th>ISI</th>\n",
              "      <th>BUI</th>\n",
              "      <th>FWI</th>\n",
              "      <th>Classes</th>\n",
              "    </tr>\n",
              "  </thead>\n",
              "  <tbody>\n",
              "    <tr>\n",
              "      <th>0</th>\n",
              "      <td>1</td>\n",
              "      <td>6</td>\n",
              "      <td>2012</td>\n",
              "      <td>29</td>\n",
              "      <td>57</td>\n",
              "      <td>18</td>\n",
              "      <td>0.0</td>\n",
              "      <td>65.7</td>\n",
              "      <td>3.4</td>\n",
              "      <td>7.6</td>\n",
              "      <td>1.3</td>\n",
              "      <td>3.4</td>\n",
              "      <td>0.5</td>\n",
              "      <td>not fire</td>\n",
              "    </tr>\n",
              "    <tr>\n",
              "      <th>1</th>\n",
              "      <td>2</td>\n",
              "      <td>6</td>\n",
              "      <td>2012</td>\n",
              "      <td>29</td>\n",
              "      <td>61</td>\n",
              "      <td>13</td>\n",
              "      <td>1.3</td>\n",
              "      <td>64.4</td>\n",
              "      <td>4.1</td>\n",
              "      <td>7.6</td>\n",
              "      <td>1.0</td>\n",
              "      <td>3.9</td>\n",
              "      <td>0.4</td>\n",
              "      <td>not fire</td>\n",
              "    </tr>\n",
              "    <tr>\n",
              "      <th>2</th>\n",
              "      <td>3</td>\n",
              "      <td>6</td>\n",
              "      <td>2012</td>\n",
              "      <td>26</td>\n",
              "      <td>82</td>\n",
              "      <td>22</td>\n",
              "      <td>13.1</td>\n",
              "      <td>47.1</td>\n",
              "      <td>2.5</td>\n",
              "      <td>7.1</td>\n",
              "      <td>0.3</td>\n",
              "      <td>2.7</td>\n",
              "      <td>0.1</td>\n",
              "      <td>not fire</td>\n",
              "    </tr>\n",
              "    <tr>\n",
              "      <th>3</th>\n",
              "      <td>4</td>\n",
              "      <td>6</td>\n",
              "      <td>2012</td>\n",
              "      <td>25</td>\n",
              "      <td>89</td>\n",
              "      <td>13</td>\n",
              "      <td>2.5</td>\n",
              "      <td>28.6</td>\n",
              "      <td>1.3</td>\n",
              "      <td>6.9</td>\n",
              "      <td>0.0</td>\n",
              "      <td>1.7</td>\n",
              "      <td>0.0</td>\n",
              "      <td>not fire</td>\n",
              "    </tr>\n",
              "    <tr>\n",
              "      <th>4</th>\n",
              "      <td>5</td>\n",
              "      <td>6</td>\n",
              "      <td>2012</td>\n",
              "      <td>27</td>\n",
              "      <td>77</td>\n",
              "      <td>16</td>\n",
              "      <td>0.0</td>\n",
              "      <td>64.8</td>\n",
              "      <td>3.0</td>\n",
              "      <td>14.2</td>\n",
              "      <td>1.2</td>\n",
              "      <td>3.9</td>\n",
              "      <td>0.5</td>\n",
              "      <td>not fire</td>\n",
              "    </tr>\n",
              "  </tbody>\n",
              "</table>\n",
              "</div>"
            ],
            "text/plain": [
              "   day  month  year  Temperature   RH  ...    DC  ISI  BUI  FWI    Classes  \n",
              "0    1      6  2012           29   57  ...   7.6  1.3  3.4  0.5  not fire   \n",
              "1    2      6  2012           29   61  ...   7.6  1.0  3.9  0.4  not fire   \n",
              "2    3      6  2012           26   82  ...   7.1  0.3  2.7  0.1  not fire   \n",
              "3    4      6  2012           25   89  ...   6.9  0.0  1.7  0.0  not fire   \n",
              "4    5      6  2012           27   77  ...  14.2  1.2  3.9  0.5  not fire   \n",
              "\n",
              "[5 rows x 14 columns]"
            ]
          },
          "metadata": {
            "tags": []
          },
          "execution_count": 3
        }
      ]
    },
    {
      "cell_type": "markdown",
      "metadata": {
        "id": "TNb0N1bvz9xQ"
      },
      "source": [
        "Se toman en cuenta solo las primeras 122 filas, ya que luego empieza otro dataset que se importará a continuación."
      ]
    },
    {
      "cell_type": "code",
      "metadata": {
        "colab": {
          "base_uri": "https://localhost:8080/",
          "height": 206
        },
        "id": "3FZCAswY0LXC",
        "outputId": "533cabac-8d84-4b00-b9a5-fb6ec12aa479"
      },
      "source": [
        "df_abbes = pd.read_csv(\"https://archive.ics.uci.edu/ml/machine-learning-databases/00547/Algerian_forest_fires_dataset_UPDATE.csv\", skiprows=126)\n",
        "df_abbes.head()"
      ],
      "execution_count": null,
      "outputs": [
        {
          "output_type": "execute_result",
          "data": {
            "text/html": [
              "<div>\n",
              "<style scoped>\n",
              "    .dataframe tbody tr th:only-of-type {\n",
              "        vertical-align: middle;\n",
              "    }\n",
              "\n",
              "    .dataframe tbody tr th {\n",
              "        vertical-align: top;\n",
              "    }\n",
              "\n",
              "    .dataframe thead th {\n",
              "        text-align: right;\n",
              "    }\n",
              "</style>\n",
              "<table border=\"1\" class=\"dataframe\">\n",
              "  <thead>\n",
              "    <tr style=\"text-align: right;\">\n",
              "      <th></th>\n",
              "      <th>day</th>\n",
              "      <th>month</th>\n",
              "      <th>year</th>\n",
              "      <th>Temperature</th>\n",
              "      <th>RH</th>\n",
              "      <th>Ws</th>\n",
              "      <th>Rain</th>\n",
              "      <th>FFMC</th>\n",
              "      <th>DMC</th>\n",
              "      <th>DC</th>\n",
              "      <th>ISI</th>\n",
              "      <th>BUI</th>\n",
              "      <th>FWI</th>\n",
              "      <th>Classes</th>\n",
              "    </tr>\n",
              "  </thead>\n",
              "  <tbody>\n",
              "    <tr>\n",
              "      <th>0</th>\n",
              "      <td>1</td>\n",
              "      <td>6</td>\n",
              "      <td>2012</td>\n",
              "      <td>32</td>\n",
              "      <td>71</td>\n",
              "      <td>12</td>\n",
              "      <td>0.7</td>\n",
              "      <td>57.1</td>\n",
              "      <td>2.5</td>\n",
              "      <td>8.2</td>\n",
              "      <td>0.6</td>\n",
              "      <td>2.8</td>\n",
              "      <td>0.2</td>\n",
              "      <td>not fire</td>\n",
              "    </tr>\n",
              "    <tr>\n",
              "      <th>1</th>\n",
              "      <td>2</td>\n",
              "      <td>6</td>\n",
              "      <td>2012</td>\n",
              "      <td>30</td>\n",
              "      <td>73</td>\n",
              "      <td>13</td>\n",
              "      <td>4.0</td>\n",
              "      <td>55.7</td>\n",
              "      <td>2.7</td>\n",
              "      <td>7.8</td>\n",
              "      <td>0.6</td>\n",
              "      <td>2.9</td>\n",
              "      <td>0.2</td>\n",
              "      <td>not fire</td>\n",
              "    </tr>\n",
              "    <tr>\n",
              "      <th>2</th>\n",
              "      <td>3</td>\n",
              "      <td>6</td>\n",
              "      <td>2012</td>\n",
              "      <td>29</td>\n",
              "      <td>80</td>\n",
              "      <td>14</td>\n",
              "      <td>2.0</td>\n",
              "      <td>48.7</td>\n",
              "      <td>2.2</td>\n",
              "      <td>7.6</td>\n",
              "      <td>0.3</td>\n",
              "      <td>2.6</td>\n",
              "      <td>0.1</td>\n",
              "      <td>not fire</td>\n",
              "    </tr>\n",
              "    <tr>\n",
              "      <th>3</th>\n",
              "      <td>4</td>\n",
              "      <td>6</td>\n",
              "      <td>2012</td>\n",
              "      <td>30</td>\n",
              "      <td>64</td>\n",
              "      <td>14</td>\n",
              "      <td>0.0</td>\n",
              "      <td>79.4</td>\n",
              "      <td>5.2</td>\n",
              "      <td>15.4</td>\n",
              "      <td>2.2</td>\n",
              "      <td>5.6</td>\n",
              "      <td>1</td>\n",
              "      <td>not fire</td>\n",
              "    </tr>\n",
              "    <tr>\n",
              "      <th>4</th>\n",
              "      <td>5</td>\n",
              "      <td>6</td>\n",
              "      <td>2012</td>\n",
              "      <td>32</td>\n",
              "      <td>60</td>\n",
              "      <td>14</td>\n",
              "      <td>0.2</td>\n",
              "      <td>77.1</td>\n",
              "      <td>6.0</td>\n",
              "      <td>17.6</td>\n",
              "      <td>1.8</td>\n",
              "      <td>6.5</td>\n",
              "      <td>0.9</td>\n",
              "      <td>not fire</td>\n",
              "    </tr>\n",
              "  </tbody>\n",
              "</table>\n",
              "</div>"
            ],
            "text/plain": [
              "   day  month  year  Temperature   RH  ...    DC  ISI  BUI  FWI    Classes  \n",
              "0    1      6  2012           32   71  ...   8.2  0.6  2.8  0.2  not fire   \n",
              "1    2      6  2012           30   73  ...   7.8  0.6  2.9  0.2  not fire   \n",
              "2    3      6  2012           29   80  ...   7.6  0.3  2.6  0.1  not fire   \n",
              "3    4      6  2012           30   64  ...  15.4  2.2  5.6    1  not fire   \n",
              "4    5      6  2012           32   60  ...  17.6  1.8  6.5  0.9  not fire   \n",
              "\n",
              "[5 rows x 14 columns]"
            ]
          },
          "metadata": {
            "tags": []
          },
          "execution_count": 4
        }
      ]
    },
    {
      "cell_type": "markdown",
      "metadata": {
        "id": "ld17t1YY3pKC"
      },
      "source": [
        "## Data wrangling"
      ]
    },
    {
      "cell_type": "markdown",
      "metadata": {
        "id": "uqExk4LhtXh9"
      },
      "source": [
        "Se comprueban las dimensiones de los datasets y se observan las estadisticas de ambos."
      ]
    },
    {
      "cell_type": "code",
      "metadata": {
        "colab": {
          "base_uri": "https://localhost:8080/"
        },
        "id": "Qc5LjnnBpJOe",
        "outputId": "f1a4ac6a-5c6f-4bf1-884b-fbe4a3015c4f"
      },
      "source": [
        "print(df_algeria.shape)\n",
        "print(df_abbes.shape)"
      ],
      "execution_count": null,
      "outputs": [
        {
          "output_type": "stream",
          "text": [
            "(122, 14)\n",
            "(122, 14)\n"
          ],
          "name": "stdout"
        }
      ]
    },
    {
      "cell_type": "code",
      "metadata": {
        "colab": {
          "base_uri": "https://localhost:8080/",
          "height": 300
        },
        "id": "u7SPKAXFvxd2",
        "outputId": "99adba5c-0d02-4890-9b55-8c39a87c348b"
      },
      "source": [
        "df_algeria.describe()"
      ],
      "execution_count": null,
      "outputs": [
        {
          "output_type": "execute_result",
          "data": {
            "text/html": [
              "<div>\n",
              "<style scoped>\n",
              "    .dataframe tbody tr th:only-of-type {\n",
              "        vertical-align: middle;\n",
              "    }\n",
              "\n",
              "    .dataframe tbody tr th {\n",
              "        vertical-align: top;\n",
              "    }\n",
              "\n",
              "    .dataframe thead th {\n",
              "        text-align: right;\n",
              "    }\n",
              "</style>\n",
              "<table border=\"1\" class=\"dataframe\">\n",
              "  <thead>\n",
              "    <tr style=\"text-align: right;\">\n",
              "      <th></th>\n",
              "      <th>day</th>\n",
              "      <th>month</th>\n",
              "      <th>year</th>\n",
              "      <th>Temperature</th>\n",
              "      <th>RH</th>\n",
              "      <th>Ws</th>\n",
              "      <th>Rain</th>\n",
              "      <th>FFMC</th>\n",
              "      <th>DMC</th>\n",
              "      <th>DC</th>\n",
              "      <th>ISI</th>\n",
              "      <th>BUI</th>\n",
              "      <th>FWI</th>\n",
              "    </tr>\n",
              "  </thead>\n",
              "  <tbody>\n",
              "    <tr>\n",
              "      <th>count</th>\n",
              "      <td>122.000000</td>\n",
              "      <td>122.000000</td>\n",
              "      <td>122.0</td>\n",
              "      <td>122.000000</td>\n",
              "      <td>122.000000</td>\n",
              "      <td>122.000000</td>\n",
              "      <td>122.000000</td>\n",
              "      <td>122.000000</td>\n",
              "      <td>122.000000</td>\n",
              "      <td>122.000000</td>\n",
              "      <td>122.000000</td>\n",
              "      <td>122.000000</td>\n",
              "      <td>122.000000</td>\n",
              "    </tr>\n",
              "    <tr>\n",
              "      <th>mean</th>\n",
              "      <td>15.754098</td>\n",
              "      <td>7.500000</td>\n",
              "      <td>2012.0</td>\n",
              "      <td>31.180328</td>\n",
              "      <td>67.975410</td>\n",
              "      <td>16.000000</td>\n",
              "      <td>0.842623</td>\n",
              "      <td>74.672951</td>\n",
              "      <td>12.314754</td>\n",
              "      <td>53.160656</td>\n",
              "      <td>3.655738</td>\n",
              "      <td>15.426230</td>\n",
              "      <td>5.577869</td>\n",
              "    </tr>\n",
              "    <tr>\n",
              "      <th>std</th>\n",
              "      <td>8.843274</td>\n",
              "      <td>1.115259</td>\n",
              "      <td>0.0</td>\n",
              "      <td>3.320401</td>\n",
              "      <td>11.154411</td>\n",
              "      <td>2.848807</td>\n",
              "      <td>2.409208</td>\n",
              "      <td>15.558713</td>\n",
              "      <td>11.274360</td>\n",
              "      <td>51.778265</td>\n",
              "      <td>3.021768</td>\n",
              "      <td>14.474302</td>\n",
              "      <td>6.343051</td>\n",
              "    </tr>\n",
              "    <tr>\n",
              "      <th>min</th>\n",
              "      <td>1.000000</td>\n",
              "      <td>6.000000</td>\n",
              "      <td>2012.0</td>\n",
              "      <td>22.000000</td>\n",
              "      <td>45.000000</td>\n",
              "      <td>11.000000</td>\n",
              "      <td>0.000000</td>\n",
              "      <td>28.600000</td>\n",
              "      <td>0.700000</td>\n",
              "      <td>6.900000</td>\n",
              "      <td>0.000000</td>\n",
              "      <td>1.100000</td>\n",
              "      <td>0.000000</td>\n",
              "    </tr>\n",
              "    <tr>\n",
              "      <th>25%</th>\n",
              "      <td>8.000000</td>\n",
              "      <td>7.000000</td>\n",
              "      <td>2012.0</td>\n",
              "      <td>29.000000</td>\n",
              "      <td>60.000000</td>\n",
              "      <td>14.000000</td>\n",
              "      <td>0.000000</td>\n",
              "      <td>65.925000</td>\n",
              "      <td>3.725000</td>\n",
              "      <td>10.050000</td>\n",
              "      <td>1.125000</td>\n",
              "      <td>5.100000</td>\n",
              "      <td>0.500000</td>\n",
              "    </tr>\n",
              "    <tr>\n",
              "      <th>50%</th>\n",
              "      <td>16.000000</td>\n",
              "      <td>7.500000</td>\n",
              "      <td>2012.0</td>\n",
              "      <td>31.000000</td>\n",
              "      <td>68.000000</td>\n",
              "      <td>16.000000</td>\n",
              "      <td>0.000000</td>\n",
              "      <td>80.900000</td>\n",
              "      <td>9.450000</td>\n",
              "      <td>35.550000</td>\n",
              "      <td>2.650000</td>\n",
              "      <td>11.200000</td>\n",
              "      <td>3.000000</td>\n",
              "    </tr>\n",
              "    <tr>\n",
              "      <th>75%</th>\n",
              "      <td>23.000000</td>\n",
              "      <td>8.000000</td>\n",
              "      <td>2012.0</td>\n",
              "      <td>34.000000</td>\n",
              "      <td>77.750000</td>\n",
              "      <td>18.000000</td>\n",
              "      <td>0.500000</td>\n",
              "      <td>86.775000</td>\n",
              "      <td>16.300000</td>\n",
              "      <td>79.025000</td>\n",
              "      <td>5.600000</td>\n",
              "      <td>21.675000</td>\n",
              "      <td>8.700000</td>\n",
              "    </tr>\n",
              "    <tr>\n",
              "      <th>max</th>\n",
              "      <td>31.000000</td>\n",
              "      <td>9.000000</td>\n",
              "      <td>2012.0</td>\n",
              "      <td>37.000000</td>\n",
              "      <td>89.000000</td>\n",
              "      <td>26.000000</td>\n",
              "      <td>16.800000</td>\n",
              "      <td>90.300000</td>\n",
              "      <td>54.200000</td>\n",
              "      <td>220.400000</td>\n",
              "      <td>12.500000</td>\n",
              "      <td>67.400000</td>\n",
              "      <td>30.200000</td>\n",
              "    </tr>\n",
              "  </tbody>\n",
              "</table>\n",
              "</div>"
            ],
            "text/plain": [
              "              day       month    year  ...         ISI         BUI         FWI\n",
              "count  122.000000  122.000000   122.0  ...  122.000000  122.000000  122.000000\n",
              "mean    15.754098    7.500000  2012.0  ...    3.655738   15.426230    5.577869\n",
              "std      8.843274    1.115259     0.0  ...    3.021768   14.474302    6.343051\n",
              "min      1.000000    6.000000  2012.0  ...    0.000000    1.100000    0.000000\n",
              "25%      8.000000    7.000000  2012.0  ...    1.125000    5.100000    0.500000\n",
              "50%     16.000000    7.500000  2012.0  ...    2.650000   11.200000    3.000000\n",
              "75%     23.000000    8.000000  2012.0  ...    5.600000   21.675000    8.700000\n",
              "max     31.000000    9.000000  2012.0  ...   12.500000   67.400000   30.200000\n",
              "\n",
              "[8 rows x 13 columns]"
            ]
          },
          "metadata": {
            "tags": []
          },
          "execution_count": 6
        }
      ]
    },
    {
      "cell_type": "markdown",
      "metadata": {
        "id": "Wt8pO0Kjtny1"
      },
      "source": [
        "De estas estadisticas se obtienen los siguientes datos:\n",
        "* No hay valores faltantes en ninguna de las columnas.\n",
        "* La media de temperaturas en la zona (y en los meses en los que se hizo el estudio) es de 31ºC (algo a tomar en cuenta para cuando se analicen las temperaturas medias en las que se registran incendios).\n",
        "* La columna de \"Rain\" tiene muchos valores en 0 o cercanos a 0, con lo cual hay que ver la posibilidad de eliminarla del conjunto de variables a la hora de hacer el estudio."
      ]
    },
    {
      "cell_type": "code",
      "metadata": {
        "colab": {
          "base_uri": "https://localhost:8080/",
          "height": 300
        },
        "id": "DZ_Bt8aJ2zOK",
        "outputId": "e2445739-6d76-42dd-fc5b-bc11ca88ec34"
      },
      "source": [
        "df_abbes.describe()"
      ],
      "execution_count": null,
      "outputs": [
        {
          "output_type": "execute_result",
          "data": {
            "text/html": [
              "<div>\n",
              "<style scoped>\n",
              "    .dataframe tbody tr th:only-of-type {\n",
              "        vertical-align: middle;\n",
              "    }\n",
              "\n",
              "    .dataframe tbody tr th {\n",
              "        vertical-align: top;\n",
              "    }\n",
              "\n",
              "    .dataframe thead th {\n",
              "        text-align: right;\n",
              "    }\n",
              "</style>\n",
              "<table border=\"1\" class=\"dataframe\">\n",
              "  <thead>\n",
              "    <tr style=\"text-align: right;\">\n",
              "      <th></th>\n",
              "      <th>day</th>\n",
              "      <th>month</th>\n",
              "      <th>year</th>\n",
              "      <th>Temperature</th>\n",
              "      <th>RH</th>\n",
              "      <th>Ws</th>\n",
              "      <th>Rain</th>\n",
              "      <th>FFMC</th>\n",
              "      <th>DMC</th>\n",
              "      <th>ISI</th>\n",
              "      <th>BUI</th>\n",
              "    </tr>\n",
              "  </thead>\n",
              "  <tbody>\n",
              "    <tr>\n",
              "      <th>count</th>\n",
              "      <td>122.000000</td>\n",
              "      <td>122.000000</td>\n",
              "      <td>122.0</td>\n",
              "      <td>122.000000</td>\n",
              "      <td>122.000000</td>\n",
              "      <td>122.000000</td>\n",
              "      <td>122.000000</td>\n",
              "      <td>122.000000</td>\n",
              "      <td>122.000000</td>\n",
              "      <td>122.000000</td>\n",
              "      <td>122.000000</td>\n",
              "    </tr>\n",
              "    <tr>\n",
              "      <th>mean</th>\n",
              "      <td>15.754098</td>\n",
              "      <td>7.500000</td>\n",
              "      <td>2012.0</td>\n",
              "      <td>33.163934</td>\n",
              "      <td>55.901639</td>\n",
              "      <td>15.008197</td>\n",
              "      <td>0.678689</td>\n",
              "      <td>81.102459</td>\n",
              "      <td>17.031967</td>\n",
              "      <td>5.892623</td>\n",
              "      <td>17.903279</td>\n",
              "    </tr>\n",
              "    <tr>\n",
              "      <th>std</th>\n",
              "      <td>8.843274</td>\n",
              "      <td>1.115259</td>\n",
              "      <td>0.0</td>\n",
              "      <td>3.675608</td>\n",
              "      <td>15.716186</td>\n",
              "      <td>2.692186</td>\n",
              "      <td>1.486759</td>\n",
              "      <td>12.244064</td>\n",
              "      <td>12.995068</td>\n",
              "      <td>4.832913</td>\n",
              "      <td>13.878868</td>\n",
              "    </tr>\n",
              "    <tr>\n",
              "      <th>min</th>\n",
              "      <td>1.000000</td>\n",
              "      <td>6.000000</td>\n",
              "      <td>2012.0</td>\n",
              "      <td>24.000000</td>\n",
              "      <td>21.000000</td>\n",
              "      <td>6.000000</td>\n",
              "      <td>0.000000</td>\n",
              "      <td>37.900000</td>\n",
              "      <td>0.900000</td>\n",
              "      <td>0.100000</td>\n",
              "      <td>1.400000</td>\n",
              "    </tr>\n",
              "    <tr>\n",
              "      <th>25%</th>\n",
              "      <td>8.000000</td>\n",
              "      <td>7.000000</td>\n",
              "      <td>2012.0</td>\n",
              "      <td>30.000000</td>\n",
              "      <td>43.250000</td>\n",
              "      <td>14.000000</td>\n",
              "      <td>0.000000</td>\n",
              "      <td>77.650000</td>\n",
              "      <td>7.325000</td>\n",
              "      <td>1.825000</td>\n",
              "      <td>7.400000</td>\n",
              "    </tr>\n",
              "    <tr>\n",
              "      <th>50%</th>\n",
              "      <td>16.000000</td>\n",
              "      <td>7.500000</td>\n",
              "      <td>2012.0</td>\n",
              "      <td>34.000000</td>\n",
              "      <td>56.000000</td>\n",
              "      <td>15.000000</td>\n",
              "      <td>0.000000</td>\n",
              "      <td>84.850000</td>\n",
              "      <td>13.150000</td>\n",
              "      <td>4.600000</td>\n",
              "      <td>13.900000</td>\n",
              "    </tr>\n",
              "    <tr>\n",
              "      <th>75%</th>\n",
              "      <td>23.000000</td>\n",
              "      <td>8.000000</td>\n",
              "      <td>2012.0</td>\n",
              "      <td>36.000000</td>\n",
              "      <td>66.750000</td>\n",
              "      <td>16.750000</td>\n",
              "      <td>0.475000</td>\n",
              "      <td>89.275000</td>\n",
              "      <td>22.900000</td>\n",
              "      <td>8.625000</td>\n",
              "      <td>23.875000</td>\n",
              "    </tr>\n",
              "    <tr>\n",
              "      <th>max</th>\n",
              "      <td>31.000000</td>\n",
              "      <td>9.000000</td>\n",
              "      <td>2012.0</td>\n",
              "      <td>42.000000</td>\n",
              "      <td>90.000000</td>\n",
              "      <td>29.000000</td>\n",
              "      <td>8.700000</td>\n",
              "      <td>96.000000</td>\n",
              "      <td>65.900000</td>\n",
              "      <td>19.000000</td>\n",
              "      <td>68.000000</td>\n",
              "    </tr>\n",
              "  </tbody>\n",
              "</table>\n",
              "</div>"
            ],
            "text/plain": [
              "              day       month    year  ...         DMC         ISI         BUI\n",
              "count  122.000000  122.000000   122.0  ...  122.000000  122.000000  122.000000\n",
              "mean    15.754098    7.500000  2012.0  ...   17.031967    5.892623   17.903279\n",
              "std      8.843274    1.115259     0.0  ...   12.995068    4.832913   13.878868\n",
              "min      1.000000    6.000000  2012.0  ...    0.900000    0.100000    1.400000\n",
              "25%      8.000000    7.000000  2012.0  ...    7.325000    1.825000    7.400000\n",
              "50%     16.000000    7.500000  2012.0  ...   13.150000    4.600000   13.900000\n",
              "75%     23.000000    8.000000  2012.0  ...   22.900000    8.625000   23.875000\n",
              "max     31.000000    9.000000  2012.0  ...   65.900000   19.000000   68.000000\n",
              "\n",
              "[8 rows x 11 columns]"
            ]
          },
          "metadata": {
            "tags": []
          },
          "execution_count": 7
        }
      ]
    },
    {
      "cell_type": "markdown",
      "metadata": {
        "id": "4IEA0YNYvIpP"
      },
      "source": [
        "Al generar las estadisticas del dataset de Abbes se evidenció que faltaban columnas, con lo cual se procede a hacer un análisis exploratorio de los datos para determinar la razón.\n",
        "\n"
      ]
    },
    {
      "cell_type": "code",
      "metadata": {
        "colab": {
          "base_uri": "https://localhost:8080/"
        },
        "id": "Zke_8J32peW2",
        "outputId": "052698a1-a8d6-47d2-9b49-ba7e2a769f59"
      },
      "source": [
        "pd.isnull(df_algeria).sum()"
      ],
      "execution_count": null,
      "outputs": [
        {
          "output_type": "execute_result",
          "data": {
            "text/plain": [
              "day            0\n",
              "month          0\n",
              "year           0\n",
              "Temperature    0\n",
              " RH            0\n",
              " Ws            0\n",
              "Rain           0\n",
              "FFMC           0\n",
              "DMC            0\n",
              "DC             0\n",
              "ISI            0\n",
              "BUI            0\n",
              "FWI            0\n",
              "Classes        0\n",
              "dtype: int64"
            ]
          },
          "metadata": {
            "tags": []
          },
          "execution_count": 8
        }
      ]
    },
    {
      "cell_type": "code",
      "metadata": {
        "colab": {
          "base_uri": "https://localhost:8080/"
        },
        "id": "HHO5mhs9s5A1",
        "outputId": "e721398f-6027-4eb4-9ecc-d64833fd2919"
      },
      "source": [
        "pd.isnull(df_abbes).sum()"
      ],
      "execution_count": null,
      "outputs": [
        {
          "output_type": "execute_result",
          "data": {
            "text/plain": [
              "day            0\n",
              "month          0\n",
              "year           0\n",
              "Temperature    0\n",
              " RH            0\n",
              " Ws            0\n",
              "Rain           0\n",
              "FFMC           0\n",
              "DMC            0\n",
              "DC             0\n",
              "ISI            0\n",
              "BUI            0\n",
              "FWI            0\n",
              "Classes        1\n",
              "dtype: int64"
            ]
          },
          "metadata": {
            "tags": []
          },
          "execution_count": 9
        }
      ]
    },
    {
      "cell_type": "markdown",
      "metadata": {
        "id": "ziJeAn3dv8tp"
      },
      "source": [
        "Se corrobora que solo hay un valor faltante en el dataset de Abbes y es en la columna \"Classes\"."
      ]
    },
    {
      "cell_type": "code",
      "metadata": {
        "colab": {
          "base_uri": "https://localhost:8080/"
        },
        "id": "3QuISRA7tlTo",
        "outputId": "04987d5f-8633-4487-b8f9-65849ac1803f"
      },
      "source": [
        "print (df_algeria.columns)\n",
        "print (df_abbes.columns)"
      ],
      "execution_count": null,
      "outputs": [
        {
          "output_type": "stream",
          "text": [
            "Index(['day', 'month', 'year', 'Temperature', ' RH', ' Ws', 'Rain ', 'FFMC',\n",
            "       'DMC', 'DC', 'ISI', 'BUI', 'FWI', 'Classes  '],\n",
            "      dtype='object')\n",
            "Index(['day', 'month', 'year', 'Temperature', ' RH', ' Ws', 'Rain ', 'FFMC',\n",
            "       'DMC', 'DC', 'ISI', 'BUI', 'FWI', 'Classes  '],\n",
            "      dtype='object')\n"
          ],
          "name": "stdout"
        }
      ]
    },
    {
      "cell_type": "code",
      "metadata": {
        "id": "Mgk18PkE4CMy"
      },
      "source": [
        "df_algeria.columns = ['Day', 'Month', 'Year', 'Temperature', 'RH', 'WS', 'Rain', 'FFMC', 'DMC', 'DC', 'ISI', 'BUI', 'FWI', 'Classes']"
      ],
      "execution_count": null,
      "outputs": []
    },
    {
      "cell_type": "code",
      "metadata": {
        "id": "qHl_Lv9a6r89"
      },
      "source": [
        "df_abbes.columns = ['Day', 'Month', 'Year', 'Temperature', 'RH', 'WS', 'Rain', 'FFMC', 'DMC', 'DC', 'ISI', 'BUI', 'FWI', 'Classes']"
      ],
      "execution_count": null,
      "outputs": []
    },
    {
      "cell_type": "markdown",
      "metadata": {
        "id": "uadDralzwNau"
      },
      "source": [
        "Se unifican los nombres de las columnas de ambos datasets para que después sea más sencillo llamar a las columnas de datos."
      ]
    },
    {
      "cell_type": "code",
      "metadata": {
        "colab": {
          "base_uri": "https://localhost:8080/"
        },
        "id": "kpMP3RXi5VV0",
        "outputId": "eaaacd52-9e0b-41b6-d507-33f927319ac6"
      },
      "source": [
        "df_algeria[\"Classes\"].value_counts()"
      ],
      "execution_count": null,
      "outputs": [
        {
          "output_type": "execute_result",
          "data": {
            "text/plain": [
              "not fire       60\n",
              "fire           53\n",
              "fire            4\n",
              "not fire        2\n",
              "fire            2\n",
              "not fire        1\n",
              "Name: Classes, dtype: int64"
            ]
          },
          "metadata": {
            "tags": []
          },
          "execution_count": 13
        }
      ]
    },
    {
      "cell_type": "code",
      "metadata": {
        "colab": {
          "base_uri": "https://localhost:8080/"
        },
        "id": "Efl9_2N77u0N",
        "outputId": "c5998bd4-20d7-471b-9931-2171c5fbfe86"
      },
      "source": [
        "df_abbes[\"Classes\"].value_counts()"
      ],
      "execution_count": null,
      "outputs": [
        {
          "output_type": "execute_result",
          "data": {
            "text/plain": [
              "fire             78\n",
              "not fire         41\n",
              "not fire          1\n",
              "not fire          1\n",
              "Name: Classes, dtype: int64"
            ]
          },
          "metadata": {
            "tags": []
          },
          "execution_count": 14
        }
      ]
    },
    {
      "cell_type": "markdown",
      "metadata": {
        "id": "Vv-IpzmdxZ-p"
      },
      "source": [
        "Al igual que con los nombres de las columnas, se puede ver que existen varios formatos para la columna de \"Classes\", con lo cual se procede a unificarlos, no sin antes rellenar el valor faltante en el df_Abbes."
      ]
    },
    {
      "cell_type": "code",
      "metadata": {
        "id": "X5uPPtin9qgF"
      },
      "source": [
        "df_abbes = df_abbes.fillna(\"fire\")"
      ],
      "execution_count": null,
      "outputs": []
    },
    {
      "cell_type": "code",
      "metadata": {
        "colab": {
          "base_uri": "https://localhost:8080/"
        },
        "id": "ylhAXoRd6RFM",
        "outputId": "6fa43b04-33b7-46b7-9dd1-74b69e75ce08"
      },
      "source": [
        "pd.unique(df_algeria[\"Classes\"])"
      ],
      "execution_count": null,
      "outputs": [
        {
          "output_type": "execute_result",
          "data": {
            "text/plain": [
              "array(['not fire   ', 'fire   ', 'fire', 'fire ', 'not fire', 'not fire '],\n",
              "      dtype=object)"
            ]
          },
          "metadata": {
            "tags": []
          },
          "execution_count": 16
        }
      ]
    },
    {
      "cell_type": "code",
      "metadata": {
        "colab": {
          "base_uri": "https://localhost:8080/"
        },
        "id": "62a70ICM775E",
        "outputId": "89b6d0e5-e058-44d9-bfca-876d33c77e79"
      },
      "source": [
        "pd.unique(df_abbes[\"Classes\"])"
      ],
      "execution_count": null,
      "outputs": [
        {
          "output_type": "execute_result",
          "data": {
            "text/plain": [
              "array(['not fire   ', 'fire   ', 'not fire     ', 'fire', 'not fire    '],\n",
              "      dtype=object)"
            ]
          },
          "metadata": {
            "tags": []
          },
          "execution_count": 17
        }
      ]
    },
    {
      "cell_type": "code",
      "metadata": {
        "id": "jmhcmYBIswpH"
      },
      "source": [
        "df_algeria[\"Classes\"] = df_algeria[\"Classes\"].replace([\"not fire   \", \"not fire \", \"fire   \",\"fire \" , \"fire \",\"not fire \"], [\"not fire\", \"not fire\",\"fire\",\"fire\", \"fire\", \"not fire\"])"
      ],
      "execution_count": null,
      "outputs": []
    },
    {
      "cell_type": "code",
      "metadata": {
        "id": "yJFF63qs-Sbw"
      },
      "source": [
        "df_abbes[\"Classes\"] = df_abbes[\"Classes\"].replace([\"not fire   \", \"not fire     \", \"fire   \",\"not fire    \"], [\"not fire\", \"not fire\",\"fire\",\"not fire\"])"
      ],
      "execution_count": null,
      "outputs": []
    },
    {
      "cell_type": "code",
      "metadata": {
        "colab": {
          "base_uri": "https://localhost:8080/"
        },
        "id": "3OLJPqae-gxM",
        "outputId": "e90417bf-a436-48f9-d72e-8c9e22ab84c9"
      },
      "source": [
        "df_algeria.dtypes"
      ],
      "execution_count": null,
      "outputs": [
        {
          "output_type": "execute_result",
          "data": {
            "text/plain": [
              "Day              int64\n",
              "Month            int64\n",
              "Year             int64\n",
              "Temperature      int64\n",
              "RH               int64\n",
              "WS               int64\n",
              "Rain           float64\n",
              "FFMC           float64\n",
              "DMC            float64\n",
              "DC             float64\n",
              "ISI            float64\n",
              "BUI            float64\n",
              "FWI            float64\n",
              "Classes         object\n",
              "dtype: object"
            ]
          },
          "metadata": {
            "tags": []
          },
          "execution_count": 20
        }
      ]
    },
    {
      "cell_type": "code",
      "metadata": {
        "colab": {
          "base_uri": "https://localhost:8080/"
        },
        "id": "_e4IbtHzqrFY",
        "outputId": "e1f6ba03-bd3a-40f2-f5de-392496a4af5a"
      },
      "source": [
        "df_abbes.dtypes"
      ],
      "execution_count": null,
      "outputs": [
        {
          "output_type": "execute_result",
          "data": {
            "text/plain": [
              "Day              int64\n",
              "Month            int64\n",
              "Year             int64\n",
              "Temperature      int64\n",
              "RH               int64\n",
              "WS               int64\n",
              "Rain           float64\n",
              "FFMC           float64\n",
              "DMC            float64\n",
              "DC              object\n",
              "ISI            float64\n",
              "BUI            float64\n",
              "FWI             object\n",
              "Classes         object\n",
              "dtype: object"
            ]
          },
          "metadata": {
            "tags": []
          },
          "execution_count": 21
        }
      ]
    },
    {
      "cell_type": "markdown",
      "metadata": {
        "id": "OAL_lwXlx9RY"
      },
      "source": [
        "Se comprueba el tipo de datos de ambos DataSets y se observa que hay 3 columnas en las que son de tipo \"objeto\", con lo cual hay que modificarlas para que sean \"int\" o \"float\" (en ninguna de esas columnas debería haber un valor tipo objeto)."
      ]
    },
    {
      "cell_type": "code",
      "metadata": {
        "id": "_igD7niGrTrE"
      },
      "source": [
        "df_abbes.loc[df_abbes['FWI'] == 'fire   ', 'FWI'] = '5.5'"
      ],
      "execution_count": null,
      "outputs": []
    },
    {
      "cell_type": "code",
      "metadata": {
        "id": "FVwUbTy2qJ6_"
      },
      "source": [
        "df_abbes.loc[df_abbes['DC'] == 'fire   ', 'DC'] = '53'"
      ],
      "execution_count": null,
      "outputs": []
    },
    {
      "cell_type": "code",
      "metadata": {
        "id": "FX7JZUd4kU8B"
      },
      "source": [
        "df_abbes.DC = df_abbes.DC.replace({\"14.6 9\":14.6})"
      ],
      "execution_count": null,
      "outputs": []
    },
    {
      "cell_type": "code",
      "metadata": {
        "id": "qgcSeXlal1ri"
      },
      "source": [
        "df_abbes[\"FWI\"] =df_abbes[\"FWI\"].astype(\"str\")"
      ],
      "execution_count": null,
      "outputs": []
    },
    {
      "cell_type": "code",
      "metadata": {
        "id": "y80BzUGpllBZ"
      },
      "source": [
        "df_abbes[\"DC\"] =df_abbes[\"DC\"].astype(\"float64\")"
      ],
      "execution_count": null,
      "outputs": []
    },
    {
      "cell_type": "code",
      "metadata": {
        "id": "i6ZY6rhIq02x"
      },
      "source": [
        "df_abbes[\"FWI\"] = df_abbes[\"FWI\"].astype(\"float64\")"
      ],
      "execution_count": null,
      "outputs": []
    },
    {
      "cell_type": "markdown",
      "metadata": {
        "id": "0f90lphSy2_e"
      },
      "source": [
        "El criterio utilizado para rellenar dichos datos es con el valor medio del dataset de Algeria."
      ]
    },
    {
      "cell_type": "code",
      "metadata": {
        "colab": {
          "base_uri": "https://localhost:8080/",
          "height": 206
        },
        "id": "PkG1e_JM85FZ",
        "outputId": "6b75dbe2-95c5-476c-dd90-8fe141e7f0a6"
      },
      "source": [
        "df_algeria = df_algeria.drop(columns=[\"Year\",\"Day\"])\n",
        "df_algeria.head()"
      ],
      "execution_count": null,
      "outputs": [
        {
          "output_type": "execute_result",
          "data": {
            "text/html": [
              "<div>\n",
              "<style scoped>\n",
              "    .dataframe tbody tr th:only-of-type {\n",
              "        vertical-align: middle;\n",
              "    }\n",
              "\n",
              "    .dataframe tbody tr th {\n",
              "        vertical-align: top;\n",
              "    }\n",
              "\n",
              "    .dataframe thead th {\n",
              "        text-align: right;\n",
              "    }\n",
              "</style>\n",
              "<table border=\"1\" class=\"dataframe\">\n",
              "  <thead>\n",
              "    <tr style=\"text-align: right;\">\n",
              "      <th></th>\n",
              "      <th>Month</th>\n",
              "      <th>Temperature</th>\n",
              "      <th>RH</th>\n",
              "      <th>WS</th>\n",
              "      <th>Rain</th>\n",
              "      <th>FFMC</th>\n",
              "      <th>DMC</th>\n",
              "      <th>DC</th>\n",
              "      <th>ISI</th>\n",
              "      <th>BUI</th>\n",
              "      <th>FWI</th>\n",
              "      <th>Classes</th>\n",
              "    </tr>\n",
              "  </thead>\n",
              "  <tbody>\n",
              "    <tr>\n",
              "      <th>0</th>\n",
              "      <td>6</td>\n",
              "      <td>29</td>\n",
              "      <td>57</td>\n",
              "      <td>18</td>\n",
              "      <td>0.0</td>\n",
              "      <td>65.7</td>\n",
              "      <td>3.4</td>\n",
              "      <td>7.6</td>\n",
              "      <td>1.3</td>\n",
              "      <td>3.4</td>\n",
              "      <td>0.5</td>\n",
              "      <td>not fire</td>\n",
              "    </tr>\n",
              "    <tr>\n",
              "      <th>1</th>\n",
              "      <td>6</td>\n",
              "      <td>29</td>\n",
              "      <td>61</td>\n",
              "      <td>13</td>\n",
              "      <td>1.3</td>\n",
              "      <td>64.4</td>\n",
              "      <td>4.1</td>\n",
              "      <td>7.6</td>\n",
              "      <td>1.0</td>\n",
              "      <td>3.9</td>\n",
              "      <td>0.4</td>\n",
              "      <td>not fire</td>\n",
              "    </tr>\n",
              "    <tr>\n",
              "      <th>2</th>\n",
              "      <td>6</td>\n",
              "      <td>26</td>\n",
              "      <td>82</td>\n",
              "      <td>22</td>\n",
              "      <td>13.1</td>\n",
              "      <td>47.1</td>\n",
              "      <td>2.5</td>\n",
              "      <td>7.1</td>\n",
              "      <td>0.3</td>\n",
              "      <td>2.7</td>\n",
              "      <td>0.1</td>\n",
              "      <td>not fire</td>\n",
              "    </tr>\n",
              "    <tr>\n",
              "      <th>3</th>\n",
              "      <td>6</td>\n",
              "      <td>25</td>\n",
              "      <td>89</td>\n",
              "      <td>13</td>\n",
              "      <td>2.5</td>\n",
              "      <td>28.6</td>\n",
              "      <td>1.3</td>\n",
              "      <td>6.9</td>\n",
              "      <td>0.0</td>\n",
              "      <td>1.7</td>\n",
              "      <td>0.0</td>\n",
              "      <td>not fire</td>\n",
              "    </tr>\n",
              "    <tr>\n",
              "      <th>4</th>\n",
              "      <td>6</td>\n",
              "      <td>27</td>\n",
              "      <td>77</td>\n",
              "      <td>16</td>\n",
              "      <td>0.0</td>\n",
              "      <td>64.8</td>\n",
              "      <td>3.0</td>\n",
              "      <td>14.2</td>\n",
              "      <td>1.2</td>\n",
              "      <td>3.9</td>\n",
              "      <td>0.5</td>\n",
              "      <td>not fire</td>\n",
              "    </tr>\n",
              "  </tbody>\n",
              "</table>\n",
              "</div>"
            ],
            "text/plain": [
              "   Month  Temperature  RH  WS  Rain  FFMC  DMC    DC  ISI  BUI  FWI   Classes\n",
              "0      6           29  57  18   0.0  65.7  3.4   7.6  1.3  3.4  0.5  not fire\n",
              "1      6           29  61  13   1.3  64.4  4.1   7.6  1.0  3.9  0.4  not fire\n",
              "2      6           26  82  22  13.1  47.1  2.5   7.1  0.3  2.7  0.1  not fire\n",
              "3      6           25  89  13   2.5  28.6  1.3   6.9  0.0  1.7  0.0  not fire\n",
              "4      6           27  77  16   0.0  64.8  3.0  14.2  1.2  3.9  0.5  not fire"
            ]
          },
          "metadata": {
            "tags": []
          },
          "execution_count": 28
        }
      ]
    },
    {
      "cell_type": "code",
      "metadata": {
        "colab": {
          "base_uri": "https://localhost:8080/",
          "height": 206
        },
        "id": "4kMxp09p-9B5",
        "outputId": "e9e829a2-8b8e-4f77-952d-5943378695b4"
      },
      "source": [
        "df_abbes = df_abbes.drop(columns=[\"Year\",\"Day\"])\n",
        "df_abbes.head()"
      ],
      "execution_count": null,
      "outputs": [
        {
          "output_type": "execute_result",
          "data": {
            "text/html": [
              "<div>\n",
              "<style scoped>\n",
              "    .dataframe tbody tr th:only-of-type {\n",
              "        vertical-align: middle;\n",
              "    }\n",
              "\n",
              "    .dataframe tbody tr th {\n",
              "        vertical-align: top;\n",
              "    }\n",
              "\n",
              "    .dataframe thead th {\n",
              "        text-align: right;\n",
              "    }\n",
              "</style>\n",
              "<table border=\"1\" class=\"dataframe\">\n",
              "  <thead>\n",
              "    <tr style=\"text-align: right;\">\n",
              "      <th></th>\n",
              "      <th>Month</th>\n",
              "      <th>Temperature</th>\n",
              "      <th>RH</th>\n",
              "      <th>WS</th>\n",
              "      <th>Rain</th>\n",
              "      <th>FFMC</th>\n",
              "      <th>DMC</th>\n",
              "      <th>DC</th>\n",
              "      <th>ISI</th>\n",
              "      <th>BUI</th>\n",
              "      <th>FWI</th>\n",
              "      <th>Classes</th>\n",
              "    </tr>\n",
              "  </thead>\n",
              "  <tbody>\n",
              "    <tr>\n",
              "      <th>0</th>\n",
              "      <td>6</td>\n",
              "      <td>32</td>\n",
              "      <td>71</td>\n",
              "      <td>12</td>\n",
              "      <td>0.7</td>\n",
              "      <td>57.1</td>\n",
              "      <td>2.5</td>\n",
              "      <td>8.2</td>\n",
              "      <td>0.6</td>\n",
              "      <td>2.8</td>\n",
              "      <td>0.2</td>\n",
              "      <td>not fire</td>\n",
              "    </tr>\n",
              "    <tr>\n",
              "      <th>1</th>\n",
              "      <td>6</td>\n",
              "      <td>30</td>\n",
              "      <td>73</td>\n",
              "      <td>13</td>\n",
              "      <td>4.0</td>\n",
              "      <td>55.7</td>\n",
              "      <td>2.7</td>\n",
              "      <td>7.8</td>\n",
              "      <td>0.6</td>\n",
              "      <td>2.9</td>\n",
              "      <td>0.2</td>\n",
              "      <td>not fire</td>\n",
              "    </tr>\n",
              "    <tr>\n",
              "      <th>2</th>\n",
              "      <td>6</td>\n",
              "      <td>29</td>\n",
              "      <td>80</td>\n",
              "      <td>14</td>\n",
              "      <td>2.0</td>\n",
              "      <td>48.7</td>\n",
              "      <td>2.2</td>\n",
              "      <td>7.6</td>\n",
              "      <td>0.3</td>\n",
              "      <td>2.6</td>\n",
              "      <td>0.1</td>\n",
              "      <td>not fire</td>\n",
              "    </tr>\n",
              "    <tr>\n",
              "      <th>3</th>\n",
              "      <td>6</td>\n",
              "      <td>30</td>\n",
              "      <td>64</td>\n",
              "      <td>14</td>\n",
              "      <td>0.0</td>\n",
              "      <td>79.4</td>\n",
              "      <td>5.2</td>\n",
              "      <td>15.4</td>\n",
              "      <td>2.2</td>\n",
              "      <td>5.6</td>\n",
              "      <td>1.0</td>\n",
              "      <td>not fire</td>\n",
              "    </tr>\n",
              "    <tr>\n",
              "      <th>4</th>\n",
              "      <td>6</td>\n",
              "      <td>32</td>\n",
              "      <td>60</td>\n",
              "      <td>14</td>\n",
              "      <td>0.2</td>\n",
              "      <td>77.1</td>\n",
              "      <td>6.0</td>\n",
              "      <td>17.6</td>\n",
              "      <td>1.8</td>\n",
              "      <td>6.5</td>\n",
              "      <td>0.9</td>\n",
              "      <td>not fire</td>\n",
              "    </tr>\n",
              "  </tbody>\n",
              "</table>\n",
              "</div>"
            ],
            "text/plain": [
              "   Month  Temperature  RH  WS  Rain  FFMC  DMC    DC  ISI  BUI  FWI   Classes\n",
              "0      6           32  71  12   0.7  57.1  2.5   8.2  0.6  2.8  0.2  not fire\n",
              "1      6           30  73  13   4.0  55.7  2.7   7.8  0.6  2.9  0.2  not fire\n",
              "2      6           29  80  14   2.0  48.7  2.2   7.6  0.3  2.6  0.1  not fire\n",
              "3      6           30  64  14   0.0  79.4  5.2  15.4  2.2  5.6  1.0  not fire\n",
              "4      6           32  60  14   0.2  77.1  6.0  17.6  1.8  6.5  0.9  not fire"
            ]
          },
          "metadata": {
            "tags": []
          },
          "execution_count": 29
        }
      ]
    },
    {
      "cell_type": "markdown",
      "metadata": {
        "id": "bE6I1kY727W2"
      },
      "source": [
        "Se eliminan las columnas de \"Día\" y \"Año\" ya que no aportan  información relevante."
      ]
    },
    {
      "cell_type": "code",
      "metadata": {
        "colab": {
          "base_uri": "https://localhost:8080/",
          "height": 300
        },
        "id": "jrszPeX3_Wl8",
        "outputId": "2437cbd6-30d8-4811-96e3-f6107d6c0253"
      },
      "source": [
        "df_algeria.describe()"
      ],
      "execution_count": null,
      "outputs": [
        {
          "output_type": "execute_result",
          "data": {
            "text/html": [
              "<div>\n",
              "<style scoped>\n",
              "    .dataframe tbody tr th:only-of-type {\n",
              "        vertical-align: middle;\n",
              "    }\n",
              "\n",
              "    .dataframe tbody tr th {\n",
              "        vertical-align: top;\n",
              "    }\n",
              "\n",
              "    .dataframe thead th {\n",
              "        text-align: right;\n",
              "    }\n",
              "</style>\n",
              "<table border=\"1\" class=\"dataframe\">\n",
              "  <thead>\n",
              "    <tr style=\"text-align: right;\">\n",
              "      <th></th>\n",
              "      <th>Month</th>\n",
              "      <th>Temperature</th>\n",
              "      <th>RH</th>\n",
              "      <th>WS</th>\n",
              "      <th>Rain</th>\n",
              "      <th>FFMC</th>\n",
              "      <th>DMC</th>\n",
              "      <th>DC</th>\n",
              "      <th>ISI</th>\n",
              "      <th>BUI</th>\n",
              "      <th>FWI</th>\n",
              "    </tr>\n",
              "  </thead>\n",
              "  <tbody>\n",
              "    <tr>\n",
              "      <th>count</th>\n",
              "      <td>122.000000</td>\n",
              "      <td>122.000000</td>\n",
              "      <td>122.000000</td>\n",
              "      <td>122.000000</td>\n",
              "      <td>122.000000</td>\n",
              "      <td>122.000000</td>\n",
              "      <td>122.000000</td>\n",
              "      <td>122.000000</td>\n",
              "      <td>122.000000</td>\n",
              "      <td>122.000000</td>\n",
              "      <td>122.000000</td>\n",
              "    </tr>\n",
              "    <tr>\n",
              "      <th>mean</th>\n",
              "      <td>7.500000</td>\n",
              "      <td>31.180328</td>\n",
              "      <td>67.975410</td>\n",
              "      <td>16.000000</td>\n",
              "      <td>0.842623</td>\n",
              "      <td>74.672951</td>\n",
              "      <td>12.314754</td>\n",
              "      <td>53.160656</td>\n",
              "      <td>3.655738</td>\n",
              "      <td>15.426230</td>\n",
              "      <td>5.577869</td>\n",
              "    </tr>\n",
              "    <tr>\n",
              "      <th>std</th>\n",
              "      <td>1.115259</td>\n",
              "      <td>3.320401</td>\n",
              "      <td>11.154411</td>\n",
              "      <td>2.848807</td>\n",
              "      <td>2.409208</td>\n",
              "      <td>15.558713</td>\n",
              "      <td>11.274360</td>\n",
              "      <td>51.778265</td>\n",
              "      <td>3.021768</td>\n",
              "      <td>14.474302</td>\n",
              "      <td>6.343051</td>\n",
              "    </tr>\n",
              "    <tr>\n",
              "      <th>min</th>\n",
              "      <td>6.000000</td>\n",
              "      <td>22.000000</td>\n",
              "      <td>45.000000</td>\n",
              "      <td>11.000000</td>\n",
              "      <td>0.000000</td>\n",
              "      <td>28.600000</td>\n",
              "      <td>0.700000</td>\n",
              "      <td>6.900000</td>\n",
              "      <td>0.000000</td>\n",
              "      <td>1.100000</td>\n",
              "      <td>0.000000</td>\n",
              "    </tr>\n",
              "    <tr>\n",
              "      <th>25%</th>\n",
              "      <td>7.000000</td>\n",
              "      <td>29.000000</td>\n",
              "      <td>60.000000</td>\n",
              "      <td>14.000000</td>\n",
              "      <td>0.000000</td>\n",
              "      <td>65.925000</td>\n",
              "      <td>3.725000</td>\n",
              "      <td>10.050000</td>\n",
              "      <td>1.125000</td>\n",
              "      <td>5.100000</td>\n",
              "      <td>0.500000</td>\n",
              "    </tr>\n",
              "    <tr>\n",
              "      <th>50%</th>\n",
              "      <td>7.500000</td>\n",
              "      <td>31.000000</td>\n",
              "      <td>68.000000</td>\n",
              "      <td>16.000000</td>\n",
              "      <td>0.000000</td>\n",
              "      <td>80.900000</td>\n",
              "      <td>9.450000</td>\n",
              "      <td>35.550000</td>\n",
              "      <td>2.650000</td>\n",
              "      <td>11.200000</td>\n",
              "      <td>3.000000</td>\n",
              "    </tr>\n",
              "    <tr>\n",
              "      <th>75%</th>\n",
              "      <td>8.000000</td>\n",
              "      <td>34.000000</td>\n",
              "      <td>77.750000</td>\n",
              "      <td>18.000000</td>\n",
              "      <td>0.500000</td>\n",
              "      <td>86.775000</td>\n",
              "      <td>16.300000</td>\n",
              "      <td>79.025000</td>\n",
              "      <td>5.600000</td>\n",
              "      <td>21.675000</td>\n",
              "      <td>8.700000</td>\n",
              "    </tr>\n",
              "    <tr>\n",
              "      <th>max</th>\n",
              "      <td>9.000000</td>\n",
              "      <td>37.000000</td>\n",
              "      <td>89.000000</td>\n",
              "      <td>26.000000</td>\n",
              "      <td>16.800000</td>\n",
              "      <td>90.300000</td>\n",
              "      <td>54.200000</td>\n",
              "      <td>220.400000</td>\n",
              "      <td>12.500000</td>\n",
              "      <td>67.400000</td>\n",
              "      <td>30.200000</td>\n",
              "    </tr>\n",
              "  </tbody>\n",
              "</table>\n",
              "</div>"
            ],
            "text/plain": [
              "            Month  Temperature          RH  ...         ISI         BUI         FWI\n",
              "count  122.000000   122.000000  122.000000  ...  122.000000  122.000000  122.000000\n",
              "mean     7.500000    31.180328   67.975410  ...    3.655738   15.426230    5.577869\n",
              "std      1.115259     3.320401   11.154411  ...    3.021768   14.474302    6.343051\n",
              "min      6.000000    22.000000   45.000000  ...    0.000000    1.100000    0.000000\n",
              "25%      7.000000    29.000000   60.000000  ...    1.125000    5.100000    0.500000\n",
              "50%      7.500000    31.000000   68.000000  ...    2.650000   11.200000    3.000000\n",
              "75%      8.000000    34.000000   77.750000  ...    5.600000   21.675000    8.700000\n",
              "max      9.000000    37.000000   89.000000  ...   12.500000   67.400000   30.200000\n",
              "\n",
              "[8 rows x 11 columns]"
            ]
          },
          "metadata": {
            "tags": []
          },
          "execution_count": 30
        }
      ]
    },
    {
      "cell_type": "code",
      "metadata": {
        "colab": {
          "base_uri": "https://localhost:8080/",
          "height": 300
        },
        "id": "1A-KdJYo_T-_",
        "outputId": "e35674c3-39ad-4765-df1b-d84eaf906869"
      },
      "source": [
        "df_abbes.describe()"
      ],
      "execution_count": null,
      "outputs": [
        {
          "output_type": "execute_result",
          "data": {
            "text/html": [
              "<div>\n",
              "<style scoped>\n",
              "    .dataframe tbody tr th:only-of-type {\n",
              "        vertical-align: middle;\n",
              "    }\n",
              "\n",
              "    .dataframe tbody tr th {\n",
              "        vertical-align: top;\n",
              "    }\n",
              "\n",
              "    .dataframe thead th {\n",
              "        text-align: right;\n",
              "    }\n",
              "</style>\n",
              "<table border=\"1\" class=\"dataframe\">\n",
              "  <thead>\n",
              "    <tr style=\"text-align: right;\">\n",
              "      <th></th>\n",
              "      <th>Month</th>\n",
              "      <th>Temperature</th>\n",
              "      <th>RH</th>\n",
              "      <th>WS</th>\n",
              "      <th>Rain</th>\n",
              "      <th>FFMC</th>\n",
              "      <th>DMC</th>\n",
              "      <th>DC</th>\n",
              "      <th>ISI</th>\n",
              "      <th>BUI</th>\n",
              "      <th>FWI</th>\n",
              "    </tr>\n",
              "  </thead>\n",
              "  <tbody>\n",
              "    <tr>\n",
              "      <th>count</th>\n",
              "      <td>122.000000</td>\n",
              "      <td>122.000000</td>\n",
              "      <td>122.000000</td>\n",
              "      <td>122.000000</td>\n",
              "      <td>122.000000</td>\n",
              "      <td>122.000000</td>\n",
              "      <td>122.000000</td>\n",
              "      <td>122.000000</td>\n",
              "      <td>122.000000</td>\n",
              "      <td>122.000000</td>\n",
              "      <td>122.000000</td>\n",
              "    </tr>\n",
              "    <tr>\n",
              "      <th>mean</th>\n",
              "      <td>7.500000</td>\n",
              "      <td>33.163934</td>\n",
              "      <td>55.901639</td>\n",
              "      <td>15.008197</td>\n",
              "      <td>0.678689</td>\n",
              "      <td>81.102459</td>\n",
              "      <td>17.031967</td>\n",
              "      <td>45.415574</td>\n",
              "      <td>5.892623</td>\n",
              "      <td>17.903279</td>\n",
              "      <td>8.480328</td>\n",
              "    </tr>\n",
              "    <tr>\n",
              "      <th>std</th>\n",
              "      <td>1.115259</td>\n",
              "      <td>3.675608</td>\n",
              "      <td>15.716186</td>\n",
              "      <td>2.692186</td>\n",
              "      <td>1.486759</td>\n",
              "      <td>12.244064</td>\n",
              "      <td>12.995068</td>\n",
              "      <td>42.927562</td>\n",
              "      <td>4.832913</td>\n",
              "      <td>13.878868</td>\n",
              "      <td>8.140163</td>\n",
              "    </tr>\n",
              "    <tr>\n",
              "      <th>min</th>\n",
              "      <td>6.000000</td>\n",
              "      <td>24.000000</td>\n",
              "      <td>21.000000</td>\n",
              "      <td>6.000000</td>\n",
              "      <td>0.000000</td>\n",
              "      <td>37.900000</td>\n",
              "      <td>0.900000</td>\n",
              "      <td>7.300000</td>\n",
              "      <td>0.100000</td>\n",
              "      <td>1.400000</td>\n",
              "      <td>0.000000</td>\n",
              "    </tr>\n",
              "    <tr>\n",
              "      <th>25%</th>\n",
              "      <td>7.000000</td>\n",
              "      <td>30.000000</td>\n",
              "      <td>43.250000</td>\n",
              "      <td>14.000000</td>\n",
              "      <td>0.000000</td>\n",
              "      <td>77.650000</td>\n",
              "      <td>7.325000</td>\n",
              "      <td>14.700000</td>\n",
              "      <td>1.825000</td>\n",
              "      <td>7.400000</td>\n",
              "      <td>0.925000</td>\n",
              "    </tr>\n",
              "    <tr>\n",
              "      <th>50%</th>\n",
              "      <td>7.500000</td>\n",
              "      <td>34.000000</td>\n",
              "      <td>56.000000</td>\n",
              "      <td>15.000000</td>\n",
              "      <td>0.000000</td>\n",
              "      <td>84.850000</td>\n",
              "      <td>13.150000</td>\n",
              "      <td>31.500000</td>\n",
              "      <td>4.600000</td>\n",
              "      <td>13.900000</td>\n",
              "      <td>5.950000</td>\n",
              "    </tr>\n",
              "    <tr>\n",
              "      <th>75%</th>\n",
              "      <td>8.000000</td>\n",
              "      <td>36.000000</td>\n",
              "      <td>66.750000</td>\n",
              "      <td>16.750000</td>\n",
              "      <td>0.475000</td>\n",
              "      <td>89.275000</td>\n",
              "      <td>22.900000</td>\n",
              "      <td>56.975000</td>\n",
              "      <td>8.625000</td>\n",
              "      <td>23.875000</td>\n",
              "      <td>13.650000</td>\n",
              "    </tr>\n",
              "    <tr>\n",
              "      <th>max</th>\n",
              "      <td>9.000000</td>\n",
              "      <td>42.000000</td>\n",
              "      <td>90.000000</td>\n",
              "      <td>29.000000</td>\n",
              "      <td>8.700000</td>\n",
              "      <td>96.000000</td>\n",
              "      <td>65.900000</td>\n",
              "      <td>177.300000</td>\n",
              "      <td>19.000000</td>\n",
              "      <td>68.000000</td>\n",
              "      <td>31.100000</td>\n",
              "    </tr>\n",
              "  </tbody>\n",
              "</table>\n",
              "</div>"
            ],
            "text/plain": [
              "            Month  Temperature          RH  ...         ISI         BUI         FWI\n",
              "count  122.000000   122.000000  122.000000  ...  122.000000  122.000000  122.000000\n",
              "mean     7.500000    33.163934   55.901639  ...    5.892623   17.903279    8.480328\n",
              "std      1.115259     3.675608   15.716186  ...    4.832913   13.878868    8.140163\n",
              "min      6.000000    24.000000   21.000000  ...    0.100000    1.400000    0.000000\n",
              "25%      7.000000    30.000000   43.250000  ...    1.825000    7.400000    0.925000\n",
              "50%      7.500000    34.000000   56.000000  ...    4.600000   13.900000    5.950000\n",
              "75%      8.000000    36.000000   66.750000  ...    8.625000   23.875000   13.650000\n",
              "max      9.000000    42.000000   90.000000  ...   19.000000   68.000000   31.100000\n",
              "\n",
              "[8 rows x 11 columns]"
            ]
          },
          "metadata": {
            "tags": []
          },
          "execution_count": 31
        }
      ]
    },
    {
      "cell_type": "code",
      "metadata": {
        "id": "UtSHmQo-8BIy"
      },
      "source": [
        "colnames= df_algeria.columns\n",
        "predictors = colnames[:-1]\n",
        "target = colnames[-1]\n",
        "X_algeria, X_abbes = df_algeria[predictors], df_abbes[predictors]\n",
        "Y_algeria, Y_abbes = df_algeria[target], df_abbes[target]"
      ],
      "execution_count": null,
      "outputs": []
    },
    {
      "cell_type": "markdown",
      "metadata": {
        "id": "jmzkkr1Q3UsD"
      },
      "source": [
        "Se separan las variables dependientes de las independientes para hacer representaciones gráficas de los datos."
      ]
    },
    {
      "cell_type": "markdown",
      "metadata": {
        "id": "OPjyQ91b36C8"
      },
      "source": [
        "## Representaciones gráficas de los datos"
      ]
    },
    {
      "cell_type": "code",
      "metadata": {
        "colab": {
          "base_uri": "https://localhost:8080/",
          "height": 302
        },
        "id": "XlL2U4ZLF8l3",
        "outputId": "304c182c-6c9d-42d2-8a76-3b60ee706e6d"
      },
      "source": [
        "sns.countplot(df_algeria[\"Temperature\"], hue=(df_algeria[\"Classes\"]))"
      ],
      "execution_count": null,
      "outputs": [
        {
          "output_type": "execute_result",
          "data": {
            "text/plain": [
              "<matplotlib.axes._subplots.AxesSubplot at 0x7f1fb181efd0>"
            ]
          },
          "metadata": {
            "tags": []
          },
          "execution_count": 33
        },
        {
          "output_type": "display_data",
          "data": {
            "image/png": "[encoded data removed]",
            "text/plain": [
              "<Figure size 432x288 with 1 Axes>"
            ]
          },
          "metadata": {
            "tags": []
          }
        }
      ]
    },
    {
      "cell_type": "markdown",
      "metadata": {
        "id": "NAZ3Bz6U4BxF"
      },
      "source": [
        "Como era de esperar, cuanto mayor sea la temperatura, existe una mayor probabilidad de que se produzca un incendio."
      ]
    },
    {
      "cell_type": "code",
      "metadata": {
        "colab": {
          "base_uri": "https://localhost:8080/",
          "height": 304
        },
        "id": "z3-8k7CgJbCP",
        "outputId": "4b4b71d4-cfee-4361-fc13-a7c60c62ad94"
      },
      "source": [
        "sns.countplot(df_algeria[\"Month\"], hue=(df_algeria[\"Classes\"]))"
      ],
      "execution_count": null,
      "outputs": [
        {
          "output_type": "execute_result",
          "data": {
            "text/plain": [
              "<matplotlib.axes._subplots.AxesSubplot at 0x7f1fb0b76150>"
            ]
          },
          "metadata": {
            "tags": []
          },
          "execution_count": 34
        },
        {
          "output_type": "display_data",
          "data": {
            "image/png": "[encoded data removed]",
            "text/plain": [
              "<Figure size 432x288 with 1 Axes>"
            ]
          },
          "metadata": {
            "tags": []
          }
        }
      ]
    },
    {
      "cell_type": "markdown",
      "metadata": {
        "id": "7uJKaTTM4Lcf"
      },
      "source": [
        "En en el més de septiembre es cuando menos incendios se registraron."
      ]
    },
    {
      "cell_type": "code",
      "metadata": {
        "colab": {
          "base_uri": "https://localhost:8080/",
          "height": 308
        },
        "id": "rVIpeJU14bmu",
        "outputId": "552ecbf6-243e-43de-ff5d-4470b9810495"
      },
      "source": [
        "sns.countplot(df_algeria[\"Month\"], hue=(df_algeria[\"Temperature\"]))"
      ],
      "execution_count": null,
      "outputs": [
        {
          "output_type": "execute_result",
          "data": {
            "text/plain": [
              "<matplotlib.axes._subplots.AxesSubplot at 0x7f1fb0554e50>"
            ]
          },
          "metadata": {
            "tags": []
          },
          "execution_count": 35
        },
        {
          "output_type": "display_data",
          "data": {
            "image/png": "[encoded data removed]",
            "text/plain": [
              "<Figure size 432x288 with 1 Axes>"
            ]
          },
          "metadata": {
            "tags": []
          }
        }
      ]
    },
    {
      "cell_type": "markdown",
      "metadata": {
        "id": "IfWn9dfj46Ll"
      },
      "source": [
        "Agosto fue el mes donde se registraron mayores cantidades de incendios y donde las temperaturas fueron más elevadas y de manera más constantes."
      ]
    },
    {
      "cell_type": "code",
      "metadata": {
        "colab": {
          "base_uri": "https://localhost:8080/",
          "height": 302
        },
        "id": "o3-LSWolJfYd",
        "outputId": "83f9ffe4-0ec2-4fdf-f6a2-5ba015692da7"
      },
      "source": [
        "sns.countplot(df_algeria[\"RH\"], hue=(df_algeria[\"Classes\"]))"
      ],
      "execution_count": null,
      "outputs": [
        {
          "output_type": "execute_result",
          "data": {
            "text/plain": [
              "<matplotlib.axes._subplots.AxesSubplot at 0x7f1fb0ab78d0>"
            ]
          },
          "metadata": {
            "tags": []
          },
          "execution_count": 36
        },
        {
          "output_type": "display_data",
          "data": {
            "image/png": "[encoded data removed]",
            "text/plain": [
              "<Figure size 432x288 with 1 Axes>"
            ]
          },
          "metadata": {
            "tags": []
          }
        }
      ]
    },
    {
      "cell_type": "markdown",
      "metadata": {
        "id": "Zo0bTfpN5EUU"
      },
      "source": [
        "Se observa que a medida que el indice de \"RH\"(Humedad relativa) aumenta, la cantidad de incendios va disminuyendo, lo cual es lógico, ya que al haber más humedad en el ambiente significa que existe una menor probabilidad de incendios."
      ]
    },
    {
      "cell_type": "code",
      "metadata": {
        "colab": {
          "base_uri": "https://localhost:8080/",
          "height": 302
        },
        "id": "zK3fvzBjJn7k",
        "outputId": "f9550e58-cebb-45b3-c603-ceb01bdbed0d"
      },
      "source": [
        "sns.countplot(df_algeria[\"WS\"], hue=(df_algeria[\"Classes\"]))"
      ],
      "execution_count": null,
      "outputs": [
        {
          "output_type": "execute_result",
          "data": {
            "text/plain": [
              "<matplotlib.axes._subplots.AxesSubplot at 0x7f1faf98d790>"
            ]
          },
          "metadata": {
            "tags": []
          },
          "execution_count": 37
        },
        {
          "output_type": "display_data",
          "data": {
            "image/png": "[encoded data removed]",
            "text/plain": [
              "<Figure size 432x288 with 1 Axes>"
            ]
          },
          "metadata": {
            "tags": []
          }
        }
      ]
    },
    {
      "cell_type": "markdown",
      "metadata": {
        "id": "3s9_nqkd5rG9"
      },
      "source": [
        "Se puede observar, que los valores extremos de la columna \"WS\"(Velocidad del viento) afectan en la cantidad de incendios que han ocurrido. La mayoría de los incendios se han registrado con velocidades entre 13 y 19."
      ]
    },
    {
      "cell_type": "code",
      "metadata": {
        "colab": {
          "base_uri": "https://localhost:8080/",
          "height": 302
        },
        "id": "otI2NROXJzF4",
        "outputId": "d2bf3260-dd2c-48cd-b3e7-9cd9b2bb4c9c"
      },
      "source": [
        "sns.countplot(df_algeria[\"Rain\"], hue=(df_algeria[\"Classes\"]))"
      ],
      "execution_count": null,
      "outputs": [
        {
          "output_type": "execute_result",
          "data": {
            "text/plain": [
              "<matplotlib.axes._subplots.AxesSubplot at 0x7f1faf9e7510>"
            ]
          },
          "metadata": {
            "tags": []
          },
          "execution_count": 38
        },
        {
          "output_type": "display_data",
          "data": {
            "image/png": "[encoded data removed]",
            "text/plain": [
              "<Figure size 432x288 with 1 Axes>"
            ]
          },
          "metadata": {
            "tags": []
          }
        }
      ]
    },
    {
      "cell_type": "markdown",
      "metadata": {
        "id": "F9ZI9P-J6Pcy"
      },
      "source": [
        "Como era de esperarse, la mayor cantidad de incendios se producen cuando no se registraron lluvias."
      ]
    },
    {
      "cell_type": "code",
      "metadata": {
        "colab": {
          "base_uri": "https://localhost:8080/",
          "height": 302
        },
        "id": "Qql1cVDBJ7lP",
        "outputId": "7dbcd78f-74a8-46b0-86d1-f155434fa59a"
      },
      "source": [
        "sns.countplot(df_algeria[\"FFMC\"], hue=(df_algeria[\"Classes\"]))"
      ],
      "execution_count": null,
      "outputs": [
        {
          "output_type": "execute_result",
          "data": {
            "text/plain": [
              "<matplotlib.axes._subplots.AxesSubplot at 0x7f1faf5d0890>"
            ]
          },
          "metadata": {
            "tags": []
          },
          "execution_count": 39
        },
        {
          "output_type": "display_data",
          "data": {
            "image/png": "[encoded data removed]",
            "text/plain": [
              "<Figure size 432x288 with 1 Axes>"
            ]
          },
          "metadata": {
            "tags": []
          }
        }
      ]
    },
    {
      "cell_type": "markdown",
      "metadata": {
        "id": "mO1S2Ujw6q3Q"
      },
      "source": [
        "Se observa que el valor de FFMC es directamente proporcional a la ocurrencia de incendios; a medida que éste valor aumenta, la cantidad de incendios aumenta también.\n",
        "\n",
        "\"The Fine Fuel Moisture Code (FFMC)\" Codigo de humedad de combustibles finos\" "
      ]
    },
    {
      "cell_type": "code",
      "metadata": {
        "colab": {
          "base_uri": "https://localhost:8080/",
          "height": 302
        },
        "id": "r6TL1Q5RKRoA",
        "outputId": "896acf03-6362-45e5-cdbb-2fe51d427ae2"
      },
      "source": [
        "sns.countplot(df_algeria[\"Temperature\"])"
      ],
      "execution_count": null,
      "outputs": [
        {
          "output_type": "execute_result",
          "data": {
            "text/plain": [
              "<matplotlib.axes._subplots.AxesSubplot at 0x7f1faf5b15d0>"
            ]
          },
          "metadata": {
            "tags": []
          },
          "execution_count": 40
        },
        {
          "output_type": "display_data",
          "data": {
            "image/png": "[encoded data removed]",
            "text/plain": [
              "<Figure size 432x288 with 1 Axes>"
            ]
          },
          "metadata": {
            "tags": []
          }
        }
      ]
    },
    {
      "cell_type": "markdown",
      "metadata": {
        "id": "kAho869N7wlH"
      },
      "source": [
        "Aquí se muestra nuevamente la distribución unicamente de las temperaturas registradas."
      ]
    },
    {
      "cell_type": "code",
      "metadata": {
        "colab": {
          "base_uri": "https://localhost:8080/",
          "height": 302
        },
        "id": "hDfMKe1nO-M6",
        "outputId": "7784ff8a-9b4d-4873-9a44-d71f0989d34a"
      },
      "source": [
        "sns.barplot(x=\"Temperature\", y = \"Classes\",data=df_algeria)"
      ],
      "execution_count": null,
      "outputs": [
        {
          "output_type": "execute_result",
          "data": {
            "text/plain": [
              "<matplotlib.axes._subplots.AxesSubplot at 0x7f1faf2173d0>"
            ]
          },
          "metadata": {
            "tags": []
          },
          "execution_count": 41
        },
        {
          "output_type": "display_data",
          "data": {
            "image/png": "[encoded data removed]",
            "text/plain": [
              "<Figure size 432x288 with 1 Axes>"
            ]
          },
          "metadata": {
            "tags": []
          }
        }
      ]
    },
    {
      "cell_type": "markdown",
      "metadata": {
        "id": "rKw40ero76aG"
      },
      "source": [
        "## Transformando variables"
      ]
    },
    {
      "cell_type": "code",
      "metadata": {
        "id": "F6gUKtzoQLcX"
      },
      "source": [
        "from sklearn.preprocessing import LabelEncoder\n",
        "label_encoder = LabelEncoder()"
      ],
      "execution_count": null,
      "outputs": []
    },
    {
      "cell_type": "code",
      "metadata": {
        "id": "yhZk7gg3QhGZ"
      },
      "source": [
        "df_algeria[\"Classes\"] = label_encoder.fit_transform(df_algeria.iloc[:,-1].values)"
      ],
      "execution_count": null,
      "outputs": []
    },
    {
      "cell_type": "code",
      "metadata": {
        "id": "qicdD81qBRw0"
      },
      "source": [
        "df_abbes[\"Classes\"] = label_encoder.fit_transform(df_abbes.iloc[:,-1].values)"
      ],
      "execution_count": null,
      "outputs": []
    },
    {
      "cell_type": "code",
      "metadata": {
        "id": "4YRBrDRrBYGh"
      },
      "source": [
        "df_abbes[\"Classes\"] = df_abbes[\"Classes\"].astype(\"int64\")"
      ],
      "execution_count": null,
      "outputs": []
    },
    {
      "cell_type": "code",
      "metadata": {
        "colab": {
          "base_uri": "https://localhost:8080/"
        },
        "id": "KRxi8757Bnhy",
        "outputId": "ae857422-f5b8-4ac0-81d2-1074e345594f"
      },
      "source": [
        "print(df_algeria.shape)\n",
        "print(df_abbes.shape)"
      ],
      "execution_count": null,
      "outputs": [
        {
          "output_type": "stream",
          "text": [
            "(122, 12)\n",
            "(122, 12)\n"
          ],
          "name": "stdout"
        }
      ]
    },
    {
      "cell_type": "code",
      "metadata": {
        "colab": {
          "base_uri": "https://localhost:8080/",
          "height": 302
        },
        "id": "zsQFC8yI7f6H",
        "outputId": "f56f251a-1528-4cbf-ebda-50b5b43e7fd1"
      },
      "source": [
        "sns.scatterplot(x=df_algeria[\"FFMC\"], y=df_algeria[\"Classes\"])"
      ],
      "execution_count": null,
      "outputs": [
        {
          "output_type": "execute_result",
          "data": {
            "text/plain": [
              "<matplotlib.axes._subplots.AxesSubplot at 0x7f1faf5a9110>"
            ]
          },
          "metadata": {
            "tags": []
          },
          "execution_count": 47
        },
        {
          "output_type": "display_data",
          "data": {
            "image/png": "[encoded data removed]",
            "text/plain": [
              "<Figure size 432x288 with 1 Axes>"
            ]
          },
          "metadata": {
            "tags": []
          }
        }
      ]
    },
    {
      "cell_type": "code",
      "metadata": {
        "colab": {
          "base_uri": "https://localhost:8080/",
          "height": 302
        },
        "id": "_z1i5TEx7-az",
        "outputId": "4a9da1f0-7c55-4283-9d05-70c00b36af33"
      },
      "source": [
        "sns.scatterplot(x=df_algeria[\"DC\"],y=df_algeria[\"Classes\"])"
      ],
      "execution_count": null,
      "outputs": [
        {
          "output_type": "execute_result",
          "data": {
            "text/plain": [
              "<matplotlib.axes._subplots.AxesSubplot at 0x7f1fade4b4d0>"
            ]
          },
          "metadata": {
            "tags": []
          },
          "execution_count": 48
        },
        {
          "output_type": "display_data",
          "data": {
            "image/png": "[encoded data removed]",
            "text/plain": [
              "<Figure size 432x288 with 1 Axes>"
            ]
          },
          "metadata": {
            "tags": []
          }
        }
      ]
    },
    {
      "cell_type": "code",
      "metadata": {
        "colab": {
          "base_uri": "https://localhost:8080/",
          "height": 302
        },
        "id": "FZnUO0bP8nby",
        "outputId": "52695066-80b4-4e69-b2fd-97c2efa3c846"
      },
      "source": [
        "sns.scatterplot(x=df_algeria[\"ISI\"],y=df_algeria[\"Classes\"])"
      ],
      "execution_count": null,
      "outputs": [
        {
          "output_type": "execute_result",
          "data": {
            "text/plain": [
              "<matplotlib.axes._subplots.AxesSubplot at 0x7f1fadda3cd0>"
            ]
          },
          "metadata": {
            "tags": []
          },
          "execution_count": 49
        },
        {
          "output_type": "display_data",
          "data": {
            "image/png": "[encoded data removed]",
            "text/plain": [
              "<Figure size 432x288 with 1 Axes>"
            ]
          },
          "metadata": {
            "tags": []
          }
        }
      ]
    },
    {
      "cell_type": "code",
      "metadata": {
        "colab": {
          "base_uri": "https://localhost:8080/",
          "height": 302
        },
        "id": "WvK5_G9f8p6S",
        "outputId": "55c7d46e-90bd-411e-f1e0-71a5e66928c1"
      },
      "source": [
        "sns.scatterplot(x=df_algeria[\"BUI\"],y=df_algeria[\"Classes\"])"
      ],
      "execution_count": null,
      "outputs": [
        {
          "output_type": "execute_result",
          "data": {
            "text/plain": [
              "<matplotlib.axes._subplots.AxesSubplot at 0x7f1faddd7c90>"
            ]
          },
          "metadata": {
            "tags": []
          },
          "execution_count": 50
        },
        {
          "output_type": "display_data",
          "data": {
            "image/png": "[encoded data removed]",
            "text/plain": [
              "<Figure size 432x288 with 1 Axes>"
            ]
          },
          "metadata": {
            "tags": []
          }
        }
      ]
    },
    {
      "cell_type": "code",
      "metadata": {
        "id": "EnMST6Lo8x5R",
        "colab": {
          "base_uri": "https://localhost:8080/",
          "height": 302
        },
        "outputId": "f9fc0798-f847-4ca2-e358-af8f29125103"
      },
      "source": [
        "sns.scatterplot(x=df_algeria[\"FWI\"],y=df_algeria[\"Classes\"])"
      ],
      "execution_count": null,
      "outputs": [
        {
          "output_type": "execute_result",
          "data": {
            "text/plain": [
              "<matplotlib.axes._subplots.AxesSubplot at 0x7f1fadd22e90>"
            ]
          },
          "metadata": {
            "tags": []
          },
          "execution_count": 51
        },
        {
          "output_type": "display_data",
          "data": {
            "image/png": "[encoded data removed]",
            "text/plain": [
              "<Figure size 432x288 with 1 Axes>"
            ]
          },
          "metadata": {
            "tags": []
          }
        }
      ]
    },
    {
      "cell_type": "markdown",
      "metadata": {
        "id": "g4ghQvOb8n8E"
      },
      "source": [
        "## Dividiendo el dataset"
      ]
    },
    {
      "cell_type": "markdown",
      "metadata": {
        "id": "sZFQUT5m86y_"
      },
      "source": [
        "Se divide el dataset en conjunto de entrenamiento y testing para entrenar los modelos predictivos."
      ]
    },
    {
      "cell_type": "code",
      "metadata": {
        "id": "0s3RfJ1BQIiT"
      },
      "source": [
        "from sklearn.model_selection import train_test_split"
      ],
      "execution_count": null,
      "outputs": []
    },
    {
      "cell_type": "code",
      "metadata": {
        "id": "HKfOHzSWTYqs"
      },
      "source": [
        "X_train, X_test, y_train, y_test = train_test_split(X_algeria, Y_algeria, test_size = 0.3, random_state = 0)"
      ],
      "execution_count": null,
      "outputs": []
    },
    {
      "cell_type": "markdown",
      "metadata": {
        "id": "sjLpdEmB8-Lr"
      },
      "source": [
        "# Aplicando modelos de Machine Learning"
      ]
    },
    {
      "cell_type": "markdown",
      "metadata": {
        "id": "W32Na6pX9Lik"
      },
      "source": [
        "Se hace un bucle para probar varios modelos de clasificación y determinar su precisión."
      ]
    },
    {
      "cell_type": "code",
      "metadata": {
        "colab": {
          "base_uri": "https://localhost:8080/"
        },
        "id": "z4F1r5W6UJCM",
        "outputId": "82fb2e77-8efc-4ff7-84f3-8a8e196dd099"
      },
      "source": [
        "def models (X_train, y_train):\n",
        "    #Utilizando el modelo de regresión logística\n",
        "    from sklearn.linear_model import LogisticRegression\n",
        "    log = LogisticRegression(random_state=0)\n",
        "    log.fit(X_train, y_train)\n",
        "    \n",
        "    #Utilizando el método de KNN\n",
        "    from sklearn.neighbors import KNeighborsClassifier\n",
        "    knn = KNeighborsClassifier()\n",
        "    knn.fit(X_train, y_train)\n",
        "    \n",
        "    #Utilizando el método de SVM\n",
        "    from sklearn.svm import SVC\n",
        "    svc = SVC(kernel = \"linear\", random_state=0)\n",
        "    svc.fit(X_train,y_train)\n",
        "    \n",
        "    #Utilizando el método de SVM\n",
        "    from sklearn.svm import SVC\n",
        "    svcsigmoid = SVC(kernel = \"sigmoid\", random_state=0)\n",
        "    svcsigmoid.fit(X_train,y_train)\n",
        "    \n",
        "    #Utilizando el método de SVM\n",
        "    from sklearn.svm import SVC\n",
        "    svcrbf = SVC(kernel = \"rbf\", random_state=0)\n",
        "    svcrbf.fit(X_train,y_train)\n",
        "\n",
        "    #Utilizando el método de SVM\n",
        "    from sklearn.svm import SVC\n",
        "    svcpoly = SVC(kernel = \"poly\",degree=3, random_state=0)\n",
        "    svcpoly.fit(X_train,y_train)\n",
        "\n",
        "    #Utilizando el método de Naive bayes\n",
        "    from sklearn.naive_bayes import GaussianNB\n",
        "    nb = GaussianNB()\n",
        "    nb.fit(X_train,y_train)\n",
        "    \n",
        "    #Utilizando el decision tree\n",
        "    from sklearn.tree import DecisionTreeClassifier\n",
        "    tree = DecisionTreeClassifier(criterion = \"entropy\", random_state=0)\n",
        "    tree.fit(X_train, y_train)\n",
        "    \n",
        "    #utilizndo el modelo de Random Forest\n",
        "    from sklearn.ensemble import RandomForestClassifier\n",
        "    forest = RandomForestClassifier(n_estimators = 10, criterion = \"entropy\", random_state=0)\n",
        "    forest.fit (X_train, y_train)\n",
        "\n",
        "    #Imprimir la pressición de los modelos de clasificación\n",
        "    print (\"[0], Precisión de la Regresión logistica: \", log.score (X_train, y_train))\n",
        "    print (\"[1], Precisión de Nearest neighbors: \", knn.score (X_train, y_train))\n",
        "    print (\"[2], Precisión de Suport vector machine linear: \", svc.score (X_train, y_train))\n",
        "    print (\"[3], Precisión de Suport vector machine sigmoide: \", svcsigmoid.score (X_train, y_train))\n",
        "    print (\"[4], Precisión de Suport vector machine rbf: \", svcrbf.score (X_train, y_train))\n",
        "    print (\"[5], Precisión de Suport vector machine Poly: \", svcpoly.score (X_train, y_train))\n",
        "    print (\"[6], Precisión de  Naive bayes: \", nb.score (X_train, y_train))\n",
        "    print (\"[7], Precisión del Arbol de decisiones: \", tree.score (X_train, y_train))\n",
        "    print (\"[8], Precisión de Random forest: \", forest.score (X_train, y_train))\n",
        "    \n",
        "    return log, knn, svc, svcsigmoid, svcrbf, svcpoly, nb, tree, forest\n",
        "\n",
        "models = models(X_train,y_train)"
      ],
      "execution_count": null,
      "outputs": [
        {
          "output_type": "stream",
          "text": [
            "/usr/local/lib/python3.7/dist-packages/sklearn/linear_model/_logistic.py:940: ConvergenceWarning: lbfgs failed to converge (status=1):\n",
            "STOP: TOTAL NO. of ITERATIONS REACHED LIMIT.\n",
            "\n",
            "Increase the number of iterations (max_iter) or scale the data as shown in:\n",
            "    https://scikit-learn.org/stable/modules/preprocessing.html\n",
            "Please also refer to the documentation for alternative solver options:\n",
            "    https://scikit-learn.org/stable/modules/linear_model.html#logistic-regression\n",
            "  extra_warning_msg=_LOGISTIC_SOLVER_CONVERGENCE_MSG)\n"
          ],
          "name": "stderr"
        },
        {
          "output_type": "stream",
          "text": [
            "[0], Precisión de la Regresión logistica:  1.0\n",
            "[1], Precisión de Nearest neighbors:  0.9176470588235294\n",
            "[2], Precisión de Suport vector machine linear:  1.0\n",
            "[3], Precisión de Suport vector machine sigmoide:  0.788235294117647\n",
            "[4], Precisión de Suport vector machine rbf:  0.8352941176470589\n",
            "[5], Precisión de Suport vector machine Poly:  0.9647058823529412\n",
            "[6], Precisión de  Naive bayes:  0.9647058823529412\n",
            "[7], Precisión del Arbol de decisiones:  1.0\n",
            "[8], Precisión de Random forest:  1.0\n"
          ],
          "name": "stdout"
        }
      ]
    },
    {
      "cell_type": "markdown",
      "metadata": {
        "id": "B30RjUPB9JQu"
      },
      "source": [
        "Se puede observar que los métodos que tienen una mayor precisión son:\n",
        "* Regresión Logística\n",
        "* Suport Vector Machine (Modelo lineal)\n",
        "* Arbol de decisiones\n",
        "* Random Forest\n",
        "* Naive bayes\n",
        "* Nearest neighbors\n",
        "\n",
        "Organizados de manera descendiente de mayor a menor precisión."
      ]
    },
    {
      "cell_type": "markdown",
      "metadata": {
        "id": "R6UxTZdc-Luj"
      },
      "source": [
        "Se aplica una matriz de confusión para corroborar la precisión de los algoritmos."
      ]
    },
    {
      "cell_type": "markdown",
      "metadata": {
        "id": "ZiNBMlq-ACOP"
      },
      "source": [
        "# Probando el modelo"
      ]
    },
    {
      "cell_type": "code",
      "metadata": {
        "id": "uagKm5mDU3Ax"
      },
      "source": [
        "from sklearn.metrics import confusion_matrix"
      ],
      "execution_count": null,
      "outputs": []
    },
    {
      "cell_type": "code",
      "metadata": {
        "colab": {
          "base_uri": "https://localhost:8080/"
        },
        "id": "jaBPsl_bVWbo",
        "outputId": "9b40830e-8caf-447e-cd12-5789fa736619"
      },
      "source": [
        "for i in range(len(models)):\n",
        "    cm = confusion_matrix(y_test, models[i].predict(X_test))\n",
        "    \n",
        "    TN, FP, FN, TP = confusion_matrix(y_test, models[i].predict(X_test)).ravel()\n",
        "    \n",
        "    test_score = (TP + TN) / (TP + TN + FN + FP)\n",
        "    \n",
        "    print (cm)\n",
        "    print(\"Model[{}] Testing accuracy = '{}'\". format(i, test_score))"
      ],
      "execution_count": null,
      "outputs": [
        {
          "output_type": "stream",
          "text": [
            "[[19  0]\n",
            " [ 0 18]]\n",
            "Model[0] Testing accuracy = '1.0'\n",
            "[[18  1]\n",
            " [ 3 15]]\n",
            "Model[1] Testing accuracy = '0.8918918918918919'\n",
            "[[19  0]\n",
            " [ 1 17]]\n",
            "Model[2] Testing accuracy = '0.972972972972973'\n",
            "[[17  2]\n",
            " [ 6 12]]\n",
            "Model[3] Testing accuracy = '0.7837837837837838'\n",
            "[[18  1]\n",
            " [ 2 16]]\n",
            "Model[4] Testing accuracy = '0.918918918918919'\n",
            "[[18  1]\n",
            " [ 0 18]]\n",
            "Model[5] Testing accuracy = '0.972972972972973'\n",
            "[[18  1]\n",
            " [ 0 18]]\n",
            "Model[6] Testing accuracy = '0.972972972972973'\n",
            "[[18  1]\n",
            " [ 0 18]]\n",
            "Model[7] Testing accuracy = '0.972972972972973'\n",
            "[[18  1]\n",
            " [ 0 18]]\n",
            "Model[8] Testing accuracy = '0.972972972972973'\n"
          ],
          "name": "stdout"
        }
      ]
    },
    {
      "cell_type": "markdown",
      "metadata": {
        "id": "ckfKIg97-UgV"
      },
      "source": [
        "De aquí se evidencia lo cercano que fue el modelo a la hora de predecir los resultados con datos que no ha utilizado antes (conjunto de evaluación)."
      ]
    },
    {
      "cell_type": "markdown",
      "metadata": {
        "id": "zTo6RXHbAMov"
      },
      "source": [
        "Se utiliza el df_abbes entero para evaluar el modelo con datos de otra zona distinta y que el modelo no conoce para así determinar su eficacia al predecir la ocurrencia de un incendio."
      ]
    },
    {
      "cell_type": "code",
      "metadata": {
        "colab": {
          "base_uri": "https://localhost:8080/"
        },
        "id": "6sA_jO0C_65m",
        "outputId": "bcbf0d22-c5bd-4234-afa2-4ad0c575338d"
      },
      "source": [
        "for i in range(len(models)):\n",
        "    cm = confusion_matrix(Y_abbes, models[i].predict(X_abbes))\n",
        "    \n",
        "    TN, FP, FN, TP = confusion_matrix(Y_abbes, models[i].predict(X_abbes)).ravel()\n",
        "    \n",
        "    test_score = (TP + TN) / (TP + TN + FN + FP)\n",
        "    \n",
        "    print (cm)\n",
        "    print(\"Model[{}] Testing accuracy = '{}'\". format(i, test_score))"
      ],
      "execution_count": null,
      "outputs": [
        {
          "output_type": "stream",
          "text": [
            "[[72  7]\n",
            " [ 1 42]]\n",
            "Model[0] Testing accuracy = '0.9344262295081968'\n",
            "[[67 12]\n",
            " [ 4 39]]\n",
            "Model[1] Testing accuracy = '0.8688524590163934'\n",
            "[[70  9]\n",
            " [ 2 41]]\n",
            "Model[2] Testing accuracy = '0.9098360655737705'\n",
            "[[70  9]\n",
            " [19 24]]\n",
            "Model[3] Testing accuracy = '0.7704918032786885'\n",
            "[[67 12]\n",
            " [ 4 39]]\n",
            "Model[4] Testing accuracy = '0.8688524590163934'\n",
            "[[66 13]\n",
            " [ 2 41]]\n",
            "Model[5] Testing accuracy = '0.8770491803278688'\n",
            "[[71  8]\n",
            " [ 2 41]]\n",
            "Model[6] Testing accuracy = '0.9180327868852459'\n",
            "[[74  5]\n",
            " [ 0 43]]\n",
            "Model[7] Testing accuracy = '0.9590163934426229'\n",
            "[[75  4]\n",
            " [ 0 43]]\n",
            "Model[8] Testing accuracy = '0.9672131147540983'\n"
          ],
          "name": "stdout"
        }
      ]
    },
    {
      "cell_type": "markdown",
      "metadata": {
        "id": "hzDFpPmwAay2"
      },
      "source": [
        "Como se observa en los resultados obtenidos, la exactitud del modelo ha disminuido con datos que nunca ha procesado.\n",
        "\n",
        "Se observa que los modelos más exactos son:\n",
        "* Regresión Logística\n",
        "* Arbol de decisiones\n",
        "* Random Forest\n",
        "\n",
        "Solo por corroborar, se utilizan todos los datos enteros para entrenar el modelo y así determinar nuevamente la exactitud de los mismos."
      ]
    },
    {
      "cell_type": "code",
      "metadata": {
        "colab": {
          "base_uri": "https://localhost:8080/"
        },
        "id": "GU2jR1g_z4xj",
        "outputId": "9d54eeef-f061-436f-8256-bf0bfcb457c3"
      },
      "source": [
        "def models (X_abbes, Y_abbes):\n",
        "    #Utilizando el modelo de regresión logística\n",
        "    from sklearn.linear_model import LogisticRegression\n",
        "    log = LogisticRegression(random_state=0)\n",
        "    log.fit(X_abbes, Y_abbes)\n",
        "    \n",
        "    #Utilizando el método de KNN\n",
        "    from sklearn.neighbors import KNeighborsClassifier\n",
        "    knn = KNeighborsClassifier()\n",
        "    knn.fit(X_abbes, Y_abbes)\n",
        "    \n",
        "    #Utilizando el método de SVM\n",
        "    from sklearn.svm import SVC\n",
        "    svc = SVC(kernel = \"linear\", random_state=0)\n",
        "    svc.fit(X_abbes, Y_abbes)\n",
        "    \n",
        "    #Utilizando el método de SVM\n",
        "    from sklearn.svm import SVC\n",
        "    svcsigmoid = SVC(kernel = \"sigmoid\", random_state=0)\n",
        "    svcsigmoid.fit(X_abbes, Y_abbes)\n",
        "    \n",
        "    #Utilizando el método de SVM\n",
        "    from sklearn.svm import SVC\n",
        "    svcrbf = SVC(kernel = \"rbf\", random_state=0)\n",
        "    svcrbf.fit(X_abbes, Y_abbes)\n",
        "\n",
        "    #Utilizando el método de SVM\n",
        "    from sklearn.svm import SVC\n",
        "    svcpoly = SVC(kernel = \"poly\",degree=3, random_state=0)\n",
        "    svcpoly.fit(X_abbes, Y_abbes)\n",
        "\n",
        "    #Utilizando el método de Naive bayes\n",
        "    from sklearn.naive_bayes import GaussianNB\n",
        "    nb = GaussianNB()\n",
        "    nb.fit(X_abbes, Y_abbes)\n",
        "    \n",
        "    #Utilizando el decision tree\n",
        "    from sklearn.tree import DecisionTreeClassifier\n",
        "    tree = DecisionTreeClassifier(criterion = \"entropy\", random_state=0)\n",
        "    tree.fit(X_abbes, Y_abbes)\n",
        "    \n",
        "    #utilizndo el modelo de Random Forest\n",
        "    from sklearn.ensemble import RandomForestClassifier\n",
        "    forest = RandomForestClassifier(n_estimators = 10, criterion = \"entropy\", random_state=0)\n",
        "    forest.fit (X_abbes, Y_abbes)\n",
        "\n",
        "    #Imprimir la pressición de los modelos de clasificación\n",
        "    print (\"[0], Precisión de la Regresión logistica: \", log.score (X_abbes, Y_abbes))\n",
        "    print (\"[1], Precisión de Nearest neighbors: \", knn.score (X_abbes, Y_abbes))\n",
        "    print (\"[2], Precisión de Suport vector machine linear: \", svc.score (X_abbes, Y_abbes))\n",
        "    print (\"[3], Precisión de Suport vector machine sigmoide: \", svcsigmoid.score (X_abbes, Y_abbes))\n",
        "    print (\"[4], Precisión de Suport vector machine rbf: \", svcrbf.score (X_abbes, Y_abbes))\n",
        "    print (\"[5], Precisión de Suport vector machine Poly: \", svcpoly.score (X_abbes, Y_abbes))\n",
        "    print (\"[6], Precisión de  Naive bayes: \", nb.score (X_abbes, Y_abbes))\n",
        "    print (\"[7], Precisión del Arbol de decisiones: \", tree.score (X_abbes, Y_abbes))\n",
        "    print (\"[8], Precisión de Random forest: \", forest.score (X_abbes, Y_abbes))\n",
        "    \n",
        "    return log, knn, svc, svcsigmoid, svcrbf, svcpoly, nb, tree, forest\n",
        "\n",
        "models = models(X_algeria, Y_abbes)"
      ],
      "execution_count": null,
      "outputs": [
        {
          "output_type": "stream",
          "text": [
            "/usr/local/lib/python3.7/dist-packages/sklearn/linear_model/_logistic.py:940: ConvergenceWarning: lbfgs failed to converge (status=1):\n",
            "STOP: TOTAL NO. of ITERATIONS REACHED LIMIT.\n",
            "\n",
            "Increase the number of iterations (max_iter) or scale the data as shown in:\n",
            "    https://scikit-learn.org/stable/modules/preprocessing.html\n",
            "Please also refer to the documentation for alternative solver options:\n",
            "    https://scikit-learn.org/stable/modules/linear_model.html#logistic-regression\n",
            "  extra_warning_msg=_LOGISTIC_SOLVER_CONVERGENCE_MSG)\n"
          ],
          "name": "stderr"
        },
        {
          "output_type": "stream",
          "text": [
            "[0], Precisión de la Regresión logistica:  0.7704918032786885\n",
            "[1], Precisión de Nearest neighbors:  0.7377049180327869\n",
            "[2], Precisión de Suport vector machine linear:  0.7459016393442623\n",
            "[3], Precisión de Suport vector machine sigmoide:  0.6475409836065574\n",
            "[4], Precisión de Suport vector machine rbf:  0.7213114754098361\n",
            "[5], Precisión de Suport vector machine Poly:  0.7295081967213115\n",
            "[6], Precisión de  Naive bayes:  0.6885245901639344\n",
            "[7], Precisión del Arbol de decisiones:  1.0\n",
            "[8], Precisión de Random forest:  0.9508196721311475\n"
          ],
          "name": "stdout"
        }
      ]
    },
    {
      "cell_type": "code",
      "metadata": {
        "colab": {
          "base_uri": "https://localhost:8080/"
        },
        "id": "VIxcfidteA5k",
        "outputId": "486d9f25-d06c-462e-c75a-32592f5e54dc"
      },
      "source": [
        "for i in range(len(models)):\n",
        "    cm = confusion_matrix(Y_abbes, models[i].predict(X_abbes))\n",
        "    \n",
        "    TN, FP, FN, TP = confusion_matrix(Y_abbes, models[i].predict(X_abbes)).ravel()\n",
        "    \n",
        "    test_score = (TP + TN) / (TP + TN + FN + FP)\n",
        "    \n",
        "    print (cm)\n",
        "    print(\"Model[{}] Testing accuracy = '{}'\". format(i, test_score))"
      ],
      "execution_count": null,
      "outputs": [
        {
          "output_type": "stream",
          "text": [
            "[[72  7]\n",
            " [29 14]]\n",
            "Model[0] Testing accuracy = '0.7049180327868853'\n",
            "[[69 10]\n",
            " [20 23]]\n",
            "Model[1] Testing accuracy = '0.7540983606557377'\n",
            "[[61 18]\n",
            " [25 18]]\n",
            "Model[2] Testing accuracy = '0.6475409836065574'\n",
            "[[79  0]\n",
            " [43  0]]\n",
            "Model[3] Testing accuracy = '0.6475409836065574'\n",
            "[[79  0]\n",
            " [29 14]]\n",
            "Model[4] Testing accuracy = '0.7622950819672131'\n",
            "[[79  0]\n",
            " [30 13]]\n",
            "Model[5] Testing accuracy = '0.7540983606557377'\n",
            "[[72  7]\n",
            " [ 6 37]]\n",
            "Model[6] Testing accuracy = '0.8934426229508197'\n",
            "[[68 11]\n",
            " [17 26]]\n",
            "Model[7] Testing accuracy = '0.7704918032786885'\n",
            "[[77  2]\n",
            " [24 19]]\n",
            "Model[8] Testing accuracy = '0.7868852459016393'\n"
          ],
          "name": "stdout"
        }
      ]
    },
    {
      "cell_type": "markdown",
      "metadata": {
        "id": "158-pv0nBV0i"
      },
      "source": [
        "Se observa como después de haber entrenado los modelos con los datos de Abbes, la exactitud del modelo ha subido considerablemente sobre todo en los algoritmos de:\n",
        "* Random forest\n",
        "* Arbol de decisiones"
      ]
    },
    {
      "cell_type": "markdown",
      "metadata": {
        "id": "bESv_Ze627BE"
      },
      "source": [
        "# Referencias"
      ]
    },
    {
      "cell_type": "markdown",
      "metadata": {
        "id": "BUGq5Vki2rBg"
      },
      "source": [
        "Datos obtenidos de la página web: https://archive.ics.uci.edu/ml/datasets/Algerian+Forest+Fires+Dataset++\n",
        "\n",
        "Faroudja ABID et al. , â€œPredicting Forest Fire in Algeria using Data Mining Techniques: Case Study of the Decision Tree Algorithmâ€, International Conference on Advanced Intelligent Systems for Sustainable Development (AI2SD 2019) , 08 - 11 July , 2019, Marrakech, Morocco"
      ]
    },
    {
      "cell_type": "code",
      "metadata": {
        "id": "zGbu_ZSQ24vr"
      },
      "source": [
        ""
      ],
      "execution_count": null,
      "outputs": []
    }
  ]
}